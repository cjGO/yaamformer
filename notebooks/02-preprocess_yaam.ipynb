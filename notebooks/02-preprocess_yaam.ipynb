{
 "cells": [
  {
   "cell_type": "markdown",
   "id": "hourly-richmond",
   "metadata": {},
   "source": [
    "## This notebook loads in the raw database scrape from previous notebook. The data is then parsed and tokenized and stored in a CSV for training models\n"
   ]
  },
  {
   "cell_type": "code",
   "execution_count": 2,
   "id": "alternative-nancy",
   "metadata": {},
   "outputs": [],
   "source": [
    "import numpy as np\n",
    "import pandas as pd\n",
    "import json\n",
    "import pickle\n",
    "import matplotlib.pyplot as plt\n",
    "import seaborn as sns"
   ]
  },
  {
   "cell_type": "code",
   "execution_count": 1,
   "id": "individual-climate",
   "metadata": {},
   "outputs": [
    {
     "name": "stdout",
     "output_type": "stream",
     "text": [
      "/home/glect/pytorch/yaamformer\n"
     ]
    }
   ],
   "source": [
    "%cd .."
   ]
  },
  {
   "cell_type": "markdown",
   "id": "armed-mustang",
   "metadata": {},
   "source": [
    "### Read in the scraped database file"
   ]
  },
  {
   "cell_type": "code",
   "execution_count": 3,
   "id": "acknowledged-price",
   "metadata": {},
   "outputs": [],
   "source": [
    "with open('./data/orf.data', 'rb') as filehandle:\n",
    "    # read the data as binary data stream\n",
    "    yaamScrape = pickle.load(filehandle)"
   ]
  },
  {
   "cell_type": "markdown",
   "id": "occasional-conjunction",
   "metadata": {},
   "source": [
    "### Collect the sequence and PTMs for each ORF"
   ]
  },
  {
   "cell_type": "code",
   "execution_count": 4,
   "id": "general-pollution",
   "metadata": {},
   "outputs": [],
   "source": [
    "#PTM types\n",
    "ptm_dict = {'Ca': 1,\n",
    " 'Methylation': 2,\n",
    " 'NtAcetylation': 3,\n",
    " 'Ubiquitination': 4,\n",
    " 'Disulfide': 5,\n",
    " 'Phosphorylation': 6,\n",
    " 'Succinylation': 7,\n",
    " 'Biotinylation': 8,\n",
    " 'Oxidation': 9,\n",
    " 'Nitration': 10,\n",
    " 'Metal': 11,\n",
    " 'Lipidation': 12,\n",
    " 'ActiveSite': 13,\n",
    " 'Glycosylation': 14,\n",
    " 'Acetylation': 15,\n",
    " 'Sumoylation': 16}\n"
   ]
  },
  {
   "cell_type": "code",
   "execution_count": 78,
   "id": "equivalent-softball",
   "metadata": {},
   "outputs": [],
   "source": [
    "def collect_ptms(orf_data):\n",
    "    \"\"\"\n",
    "    parses the data collected from YAAM database\n",
    "    \"\"\"\n",
    "    \n",
    "    #set up tracking dictionary\n",
    "    ptm_dict_store ={} #contains all positions of PTM and their types\n",
    "    for ptm_id in ptm_dict.values():\n",
    "        ptm_dict_store[ptm_id] = []\n",
    "\n",
    "    total_ptm = 0\n",
    "    total_residue = 0\n",
    "\n",
    "    for i in orf_data:\n",
    "        total_ptm += 1\n",
    "        total_residue +=1\n",
    "        #print(i)\n",
    "        #collect the position/type for each present PTM in the ORF\n",
    "\n",
    "        #single modification present -> simple\n",
    "        if i['modification'].count(',') == 0:\n",
    "            PTM_TOKEN = ptm_dict[i['modification']]\n",
    "            ptm_dict_store[PTM_TOKEN].append(i['position'])\n",
    "        #multiple modifications -> add steps\n",
    "        else:\n",
    "            mods = i['modification'].split(',')\n",
    "            for x in mods:\n",
    "                x = x.rstrip().lstrip() #bad white space present\n",
    "                #print(x)\n",
    "                total_residue +=1\n",
    "                PTM_TOKEN = ptm_dict[x]\n",
    "                ptm_dict_store[PTM_TOKEN].append(i['position'])\n",
    "             \n",
    "    #collect which residues have PTMs\n",
    "    all_locations = []\n",
    "    #print(ptm_dict_store.values())\n",
    "    for i in ptm_dict_store.values():\n",
    "        for x in i:\n",
    "            all_locations.append(x)\n",
    "    all_locations = list(set(all_locations)) #remove duplicates\n",
    "    \n",
    "\n",
    "    return all_locations, total_ptm"
   ]
  },
  {
   "cell_type": "code",
   "execution_count": null,
   "id": "phantom-three",
   "metadata": {},
   "outputs": [],
   "source": [
    "yaamScrape"
   ]
  },
  {
   "cell_type": "code",
   "execution_count": 82,
   "id": "excess-green",
   "metadata": {},
   "outputs": [
    {
     "data": {
      "text/plain": [
       "{'orf': 'YGL077C',\n",
       " 'seq': {\"data\":[{\"systematic_name\":\"YGL077C\",\"location\":\"plasma membrane\",\"sequence\":\"MSIRNDNASGGYMQPDQSSNASMHKRDLRVEEEIKPLDDMDSKGAVAADGEVHLRKSFSLWSILGVGFGLTNSWFGISTSMVAGISSGGPMMIVYGIIIVALISICIGTSLGELSSAYPHAGGQFWWSLKLAPPKYKRFAAYMCGSFAYAGSVFTSASTTLSVATEVVGMYALTHPEFIPKRWHIFVCFELLHLFLMFFNCYGKSLPIISSSSLYISLLSFFTITITVLACSHGKFNDAKFVFATFNNETGWKNGGIAFIVGLINPAWSFSCLDCATHMAFEVEKPERVIPIAIMGTVAIGFVTSFCYVIAMFFSIQDLDAVLSSTTGAPILDIYNQALGNKSGAIFLGCLILFTSFGCVIACHTWQARLCWSFARDNGLPLSRLWSQVNPHTGVPLNAHLMSCAWITLIGLLYLASSTAFQSLITGCIAFLLLSYIIPVICLLAKKRNIAHGPFWLGKFGFFSNIVLLGWTVFSVVFFSFPPVLPVTKDNMNYVCVVIVGYTAYSILYWKYKGKKEFHALEESENEQAEYSNNFDTIEDSREFSVAASDVELENEHVPWGKK\",\"sequence_order\":\"\",\"standard_name\":\"HNM1\",\"header\":\"Plasma membrane transporter for choline, ethanolamine, and carnitine; involved in the uptake of nitrogen mustard and the uptake of glycine betaine during hypersaline stress; co-regulated with phospholipid biosynthetic genes and negatively regulated by choline and myo-inositol\"}]},\n",
       " 'mod': {\"data\":[{\"residue\":\"S\",\"position\":2,\"pmid\":\"19795423,19823750,22817900,24961812\",\"modification\":\"Phosphorylation\",\"number\":1},{\"residue\":\"N\",\"position\":7,\"pmid\":\"25348405\",\"modification\":\"Glycosylation\",\"number\":1},{\"residue\":\"S\",\"position\":9,\"pmid\":\"20702584,19779198,19795423,19823750,22817900,23749301,24961812\",\"modification\":\"Phosphorylation\",\"number\":1},{\"residue\":\"Y\",\"position\":12,\"pmid\":\"20702584,19779198,22817900,23749301\",\"modification\":\"Phosphorylation\",\"number\":1},{\"residue\":\"M\",\"position\":13,\"pmid\":\"24961812\",\"modification\":\"Oxidation\",\"number\":1},{\"residue\":\"S\",\"position\":18,\"pmid\":\"20702584,19795423,19823750,22817900,23749301,24961812\",\"modification\":\"Phosphorylation\",\"number\":1},{\"residue\":\"S\",\"position\":19,\"pmid\":\"19684113,20702584,19779198,19795423,19823750,22817900,23749301,24961812\",\"modification\":\"Phosphorylation\",\"number\":1},{\"residue\":\"N\",\"position\":20,\"pmid\":\"25348405\",\"modification\":\"Glycosylation\",\"number\":1},{\"residue\":\"S\",\"position\":22,\"pmid\":\"19684113,20702584,19779198,19795423,19823750,22817900,23749301,24961812\",\"modification\":\"Phosphorylation\",\"number\":1},{\"residue\":\"K\",\"position\":25,\"pmid\":\"25078903,22817900,23749301\",\"modification\":\"Ubiquitination\",\"number\":1},{\"residue\":\"K\",\"position\":35,\"pmid\":\"25078903,22817900,23749301,24961812\",\"modification\":\"Ubiquitination\",\"number\":1},{\"residue\":\"S\",\"position\":42,\"pmid\":\"20702584,19779198,19795423,19823750,21177495,22817900,23749301,24961812,28747907\",\"modification\":\" Phosphorylation,Acetylation\",\"number\":2},{\"residue\":\"K\",\"position\":43,\"pmid\":\"23749301\",\"modification\":\"Ubiquitination\",\"number\":1},{\"residue\":\"N\",\"position\":248,\"pmid\":\"25348405\",\"modification\":\"Glycosylation\",\"number\":1},{\"residue\":\"N\",\"position\":341,\"pmid\":\"25348405\",\"modification\":\"Glycosylation\",\"number\":1},{\"residue\":\"S\",\"position\":545,\"pmid\":\"19779198,22817900,23749301\",\"modification\":\"Phosphorylation\",\"number\":1},{\"residue\":\"S\",\"position\":549,\"pmid\":\"28747907,19779198,22817900,23749301\",\"modification\":\"Phosphorylation\",\"number\":1},{\"residue\":\"K\",\"position\":562,\"pmid\":\"25078903,23749301\",\"modification\":\"Ubiquitination\",\"number\":1},{\"residue\":\"K\",\"position\":563,\"pmid\":\"25078903\",\"modification\":\"Ubiquitination\",\"number\":1}]}}"
      ]
     },
     "execution_count": 82,
     "metadata": {},
     "output_type": "execute_result"
    }
   ],
   "source": [
    "yaamScrape[110]"
   ]
  },
  {
   "cell_type": "code",
   "execution_count": 251,
   "id": "caroline-experiment",
   "metadata": {},
   "outputs": [
    {
     "name": "stdout",
     "output_type": "stream",
     "text": [
      "Approximately 99.5% of available ORFs included in final dataset\n"
     ]
    }
   ],
   "source": [
    "orfs = []\n",
    "sequences = []\n",
    "seq_lens = []\n",
    "labels = []\n",
    "ptm_counts = []\n",
    "residue_counts = []\n",
    "miss = 0\n",
    "for ORF in range(len(yaamScrape)):\n",
    "    try:\n",
    "        #print(ORF)\n",
    "        ORF = yaamScrape[ORF]\n",
    "        orf_id = ORF['orf']    \n",
    "        #collect ORF sequence + length\n",
    "        orf_seq = json.loads(str(ORF['seq']))['data'][0]['sequence']\n",
    "        orf_len = len(orf_seq)\n",
    "        #print('len',orf_len)\n",
    "\n",
    "        #collect PTM annotations\n",
    "        orf_ptms = json.loads(str(ORF['mod']))['data']\n",
    "        #print(orf_ptms)\n",
    "        ptm_profile, unique_ptms = collect_ptms(orf_ptms)\n",
    "        #print(ptm_profile,residues)\n",
    "\n",
    "        #create annotation label\n",
    "        ptm_annotation = np.zeros(orf_len)\n",
    "        for i in ptm_profile:\n",
    "            ptm_annotation[i-1] = int(1) #CRITICAL!!! if this wasn't i-1 , then we'd be off by one on annotations!\n",
    "        #convert to string to store in pandas dataframe NUMPY BREAKS\n",
    "        total_residue = sum(ptm_annotation)\n",
    "        ptm_annotation = str(ptm_annotation.astype(int)).replace('\\n','')[1:-1]\n",
    "        \n",
    "        orfs.append(orf_id) # YC3BEOW\n",
    "        sequences.append(orf_seq) #MATTACGPPT\n",
    "        seq_lens.append(orf_len) # 10\n",
    "        labels.append(ptm_annotation) #[0 0 0 0 1  1 0 0 0 0 0]\n",
    "        residue_counts.append(int(total_residue)) # 2\n",
    "        ptm_counts.append(unique_ptms) # 3\n",
    "    except:\n",
    "        miss +=1 #some ORFs have mispellings, random bugs\n",
    "        \n",
    "print(f'Approximately {round(1-(miss/len(yaamScrape)),3) * 100}% of available ORFs included in final dataset')"
   ]
  },
  {
   "cell_type": "markdown",
   "id": "guided-leone",
   "metadata": {},
   "source": [
    "### Post-process data (tokenizaton) and put in a dataframe"
   ]
  },
  {
   "cell_type": "code",
   "execution_count": 258,
   "id": "double-evans",
   "metadata": {},
   "outputs": [],
   "source": [
    "YAAM = pd.DataFrame({'orf_id':orfs,\n",
    "              'residues':residue_counts,\n",
    "              'total_ptm':ptm_counts,\n",
    "              'len':seq_lens,\n",
    "              'label':labels,\n",
    "              'seq':sequences,\n",
    "             })"
   ]
  },
  {
   "cell_type": "code",
   "execution_count": 259,
   "id": "acquired-ghost",
   "metadata": {},
   "outputs": [
    {
     "data": {
      "text/html": [
       "<div>\n",
       "<style scoped>\n",
       "    .dataframe tbody tr th:only-of-type {\n",
       "        vertical-align: middle;\n",
       "    }\n",
       "\n",
       "    .dataframe tbody tr th {\n",
       "        vertical-align: top;\n",
       "    }\n",
       "\n",
       "    .dataframe thead th {\n",
       "        text-align: right;\n",
       "    }\n",
       "</style>\n",
       "<table border=\"1\" class=\"dataframe\">\n",
       "  <thead>\n",
       "    <tr style=\"text-align: right;\">\n",
       "      <th></th>\n",
       "      <th>orf_id</th>\n",
       "      <th>residues</th>\n",
       "      <th>total_ptm</th>\n",
       "      <th>len</th>\n",
       "      <th>label</th>\n",
       "      <th>seq</th>\n",
       "    </tr>\n",
       "  </thead>\n",
       "  <tbody>\n",
       "    <tr>\n",
       "      <th>0</th>\n",
       "      <td>YDR148C</td>\n",
       "      <td>14</td>\n",
       "      <td>14</td>\n",
       "      <td>463</td>\n",
       "      <td>0 0 0 0 0 0 0 0 0 0 0 0 0 0 0 0 0 0 0 0 0 0 0 ...</td>\n",
       "      <td>MLSRATRTAAAKSLVKSKVARNVMAASFVKRHASTSLFKQANKVES...</td>\n",
       "    </tr>\n",
       "    <tr>\n",
       "      <th>1</th>\n",
       "      <td>YIL037C</td>\n",
       "      <td>1</td>\n",
       "      <td>1</td>\n",
       "      <td>656</td>\n",
       "      <td>0 0 0 0 0 0 0 0 0 0 0 0 0 0 0 0 0 0 0 0 0 0 0 ...</td>\n",
       "      <td>MNNVHIIKPLSLPQRFFSCIFHPLLLIFFTSVILTIWGSFSVIDIT...</td>\n",
       "    </tr>\n",
       "    <tr>\n",
       "      <th>2</th>\n",
       "      <td>YPL195W</td>\n",
       "      <td>30</td>\n",
       "      <td>30</td>\n",
       "      <td>932</td>\n",
       "      <td>0 1 1 0 0 0 0 0 0 0 0 0 0 0 0 0 0 0 0 0 0 0 0 ...</td>\n",
       "      <td>MTSLYAPGAEDIRQRLRPFGFFFEKSLKDLIKGIRSHNETPEKLDQ...</td>\n",
       "    </tr>\n",
       "    <tr>\n",
       "      <th>3</th>\n",
       "      <td>YDL194W</td>\n",
       "      <td>15</td>\n",
       "      <td>15</td>\n",
       "      <td>884</td>\n",
       "      <td>0 0 0 0 0 0 0 0 0 0 0 0 0 0 0 0 0 0 0 0 0 0 0 ...</td>\n",
       "      <td>MDPNSNSSSETLRQEKQGFLDKALQRVKGIALRRNNSNKDHTTDDT...</td>\n",
       "    </tr>\n",
       "    <tr>\n",
       "      <th>4</th>\n",
       "      <td>YNL331C</td>\n",
       "      <td>1</td>\n",
       "      <td>1</td>\n",
       "      <td>376</td>\n",
       "      <td>0 0 0 0 0 0 0 0 0 0 0 0 0 0 0 0 0 0 0 0 0 0 0 ...</td>\n",
       "      <td>MTDLFKPLPEPPTELGRLRVLSKTAGIRVSPLILGGASIGDAWSGF...</td>\n",
       "    </tr>\n",
       "  </tbody>\n",
       "</table>\n",
       "</div>"
      ],
      "text/plain": [
       "    orf_id  residues  total_ptm  len  \\\n",
       "0  YDR148C        14         14  463   \n",
       "1  YIL037C         1          1  656   \n",
       "2  YPL195W        30         30  932   \n",
       "3  YDL194W        15         15  884   \n",
       "4  YNL331C         1          1  376   \n",
       "\n",
       "                                               label  \\\n",
       "0  0 0 0 0 0 0 0 0 0 0 0 0 0 0 0 0 0 0 0 0 0 0 0 ...   \n",
       "1  0 0 0 0 0 0 0 0 0 0 0 0 0 0 0 0 0 0 0 0 0 0 0 ...   \n",
       "2  0 1 1 0 0 0 0 0 0 0 0 0 0 0 0 0 0 0 0 0 0 0 0 ...   \n",
       "3  0 0 0 0 0 0 0 0 0 0 0 0 0 0 0 0 0 0 0 0 0 0 0 ...   \n",
       "4  0 0 0 0 0 0 0 0 0 0 0 0 0 0 0 0 0 0 0 0 0 0 0 ...   \n",
       "\n",
       "                                                 seq  \n",
       "0  MLSRATRTAAAKSLVKSKVARNVMAASFVKRHASTSLFKQANKVES...  \n",
       "1  MNNVHIIKPLSLPQRFFSCIFHPLLLIFFTSVILTIWGSFSVIDIT...  \n",
       "2  MTSLYAPGAEDIRQRLRPFGFFFEKSLKDLIKGIRSHNETPEKLDQ...  \n",
       "3  MDPNSNSSSETLRQEKQGFLDKALQRVKGIALRRNNSNKDHTTDDT...  \n",
       "4  MTDLFKPLPEPPTELGRLRVLSKTAGIRVSPLILGGASIGDAWSGF...  "
      ]
     },
     "execution_count": 259,
     "metadata": {},
     "output_type": "execute_result"
    }
   ],
   "source": [
    "YAAM.head()"
   ]
  },
  {
   "cell_type": "code",
   "execution_count": 149,
   "id": "green-intensity",
   "metadata": {},
   "outputs": [
    {
     "data": {
      "text/plain": [
       "{'M': 1,\n",
       " 'L': 2,\n",
       " 'S': 3,\n",
       " 'R': 4,\n",
       " 'A': 5,\n",
       " 'T': 6,\n",
       " 'K': 7,\n",
       " 'V': 8,\n",
       " 'N': 9,\n",
       " 'F': 10,\n",
       " 'H': 11,\n",
       " 'Q': 12,\n",
       " 'E': 13,\n",
       " 'G': 14,\n",
       " 'I': 15,\n",
       " 'Y': 16,\n",
       " 'P': 17,\n",
       " 'D': 18,\n",
       " 'C': 19,\n",
       " 'W': 20}"
      ]
     },
     "execution_count": 149,
     "metadata": {},
     "output_type": "execute_result"
    }
   ],
   "source": [
    "#get amino acid set\n",
    "\n",
    "aa_list = []\n",
    "\n",
    "for s in YAAM['seq']:\n",
    "    if (len(aa_list) < 20):\n",
    "        for aa in s:\n",
    "            if aa in aa_list:\n",
    "                pass\n",
    "            else:\n",
    "                aa_list.append(aa)\n",
    "                \n",
    "aa_dict = {}\n",
    "for aa in range(len(aa_list)):\n",
    "    aa_dict[aa_list[aa]] = aa+1\n",
    "aa_dict"
   ]
  },
  {
   "cell_type": "code",
   "execution_count": 118,
   "id": "assigned-birthday",
   "metadata": {},
   "outputs": [],
   "source": [
    "# tokenized_proteins = []\n",
    "# count=0\n",
    "# for protein in YAAM['seq']:\n",
    "#     protein = ''.join(ch for ch in protein if ch.isupper())\n",
    "#     #print(protein)\n",
    "#     #print()\n",
    "#     tokenized_proteins.append([aa_dict[i] for i in protein])\n",
    "# YAAM['token_proteins'] = tokenized_proteins"
   ]
  },
  {
   "cell_type": "markdown",
   "id": "attempted-resort",
   "metadata": {},
   "source": [
    "### Count the total number of observed PTMs per type"
   ]
  },
  {
   "cell_type": "code",
   "execution_count": 11,
   "id": "matched-candle",
   "metadata": {},
   "outputs": [
    {
     "data": {
      "text/plain": [
       "{'Ca': 23.0,\n",
       " 'Methylation': 229.0,\n",
       " 'NtAcetylation': 746.0,\n",
       " 'Ubiquitination': 8535.0,\n",
       " 'Disulfide': 257.0,\n",
       " 'Phosphorylation': 33967.0,\n",
       " 'Succinylation': 1701.0,\n",
       " 'Biotinylation': 1.0,\n",
       " 'Oxidation': 830.0,\n",
       " 'Nitration': 14.0,\n",
       " 'Metal': 1782.0,\n",
       " 'Lipidation': 141.0,\n",
       " 'ActiveSite': 1085.0,\n",
       " 'Glycosylation': 1959.0,\n",
       " 'Acetylation': 6773.0,\n",
       " 'Sumoylation': 86.0}"
      ]
     },
     "execution_count": 11,
     "metadata": {},
     "output_type": "execute_result"
    }
   ],
   "source": [
    "ptm_counter = {}\n",
    "\n",
    "for i in range(len(ptm_dict.keys())):\n",
    "    ptm_counter[i] = 0\n",
    "\n",
    "for ptms in YAAM['annotations']:\n",
    "    for c,i in enumerate(ptms):\n",
    "        ptm_counter[c] += sum(i)\n",
    "        \n",
    "ptm_counts = {}\n",
    "for c,i in enumerate(ptm_dict.keys()):\n",
    "    ptm_counts[i] = ptm_counter[c]\n",
    "ptm_counts"
   ]
  },
  {
   "cell_type": "markdown",
   "id": "welsh-eligibility",
   "metadata": {},
   "source": [
    "### Visualize Sequence Lengths"
   ]
  },
  {
   "cell_type": "code",
   "execution_count": 110,
   "id": "informal-twenty",
   "metadata": {},
   "outputs": [
    {
     "data": {
      "text/plain": [
       "<AxesSubplot:>"
      ]
     },
     "execution_count": 110,
     "metadata": {},
     "output_type": "execute_result"
    },
    {
     "data": {
      "image/png": "[encoded data removed]",
      "text/plain": [
       "<Figure size 432x288 with 1 Axes>"
      ]
     },
     "metadata": {
      "needs_background": "light"
     },
     "output_type": "display_data"
    }
   ],
   "source": [
    "YAAM['seq'].map(len).hist(bins=50)"
   ]
  },
  {
   "cell_type": "markdown",
   "id": "senior-large",
   "metadata": {},
   "source": [
    "### Visualize total PTM residues"
   ]
  },
  {
   "cell_type": "code",
   "execution_count": 13,
   "id": "empty-faculty",
   "metadata": {},
   "outputs": [],
   "source": [
    "total_ptm = YAAM['total_ptm'].values\n",
    "total_residue = YAAM['unique_residues'].values\n",
    "\n",
    "# plt.hist(total_ptm,bins=30)\n",
    "# plt.hist(total_residue,bins=30)\n",
    "# plt.show()"
   ]
  },
  {
   "cell_type": "code",
   "execution_count": 14,
   "id": "smooth-schema",
   "metadata": {},
   "outputs": [
    {
     "data": {
      "text/plain": [
       "<seaborn.axisgrid.FacetGrid at 0x7fe739d836d0>"
      ]
     },
     "execution_count": 14,
     "metadata": {},
     "output_type": "execute_result"
    },
    {
     "data": {
      "image/png": "[encoded data removed]",
      "text/plain": [
       "<Figure size 438.25x360 with 1 Axes>"
      ]
     },
     "metadata": {
      "needs_background": "light"
     },
     "output_type": "display_data"
    }
   ],
   "source": [
    "sns.displot({'ptms':total_ptm,\n",
    " 'residues':total_residue},\n",
    "           kind='hist',\n",
    "           bins=50,\n",
    "           alpha=.5)"
   ]
  },
  {
   "cell_type": "markdown",
   "id": "experimental-making",
   "metadata": {},
   "source": [
    "### Save the dataframe in PICKLE file for later use"
   ]
  },
  {
   "cell_type": "code",
   "execution_count": 260,
   "id": "professional-pizza",
   "metadata": {},
   "outputs": [
    {
     "data": {
      "text/html": [
       "<div>\n",
       "<style scoped>\n",
       "    .dataframe tbody tr th:only-of-type {\n",
       "        vertical-align: middle;\n",
       "    }\n",
       "\n",
       "    .dataframe tbody tr th {\n",
       "        vertical-align: top;\n",
       "    }\n",
       "\n",
       "    .dataframe thead th {\n",
       "        text-align: right;\n",
       "    }\n",
       "</style>\n",
       "<table border=\"1\" class=\"dataframe\">\n",
       "  <thead>\n",
       "    <tr style=\"text-align: right;\">\n",
       "      <th></th>\n",
       "      <th>orf_id</th>\n",
       "      <th>residues</th>\n",
       "      <th>total_ptm</th>\n",
       "      <th>len</th>\n",
       "      <th>label</th>\n",
       "      <th>seq</th>\n",
       "    </tr>\n",
       "  </thead>\n",
       "  <tbody>\n",
       "    <tr>\n",
       "      <th>0</th>\n",
       "      <td>YDR148C</td>\n",
       "      <td>14</td>\n",
       "      <td>14</td>\n",
       "      <td>463</td>\n",
       "      <td>0 0 0 0 0 0 0 0 0 0 0 0 0 0 0 0 0 0 0 0 0 0 0 ...</td>\n",
       "      <td>MLSRATRTAAAKSLVKSKVARNVMAASFVKRHASTSLFKQANKVES...</td>\n",
       "    </tr>\n",
       "    <tr>\n",
       "      <th>1</th>\n",
       "      <td>YIL037C</td>\n",
       "      <td>1</td>\n",
       "      <td>1</td>\n",
       "      <td>656</td>\n",
       "      <td>0 0 0 0 0 0 0 0 0 0 0 0 0 0 0 0 0 0 0 0 0 0 0 ...</td>\n",
       "      <td>MNNVHIIKPLSLPQRFFSCIFHPLLLIFFTSVILTIWGSFSVIDIT...</td>\n",
       "    </tr>\n",
       "    <tr>\n",
       "      <th>2</th>\n",
       "      <td>YPL195W</td>\n",
       "      <td>30</td>\n",
       "      <td>30</td>\n",
       "      <td>932</td>\n",
       "      <td>0 1 1 0 0 0 0 0 0 0 0 0 0 0 0 0 0 0 0 0 0 0 0 ...</td>\n",
       "      <td>MTSLYAPGAEDIRQRLRPFGFFFEKSLKDLIKGIRSHNETPEKLDQ...</td>\n",
       "    </tr>\n",
       "    <tr>\n",
       "      <th>3</th>\n",
       "      <td>YDL194W</td>\n",
       "      <td>15</td>\n",
       "      <td>15</td>\n",
       "      <td>884</td>\n",
       "      <td>0 0 0 0 0 0 0 0 0 0 0 0 0 0 0 0 0 0 0 0 0 0 0 ...</td>\n",
       "      <td>MDPNSNSSSETLRQEKQGFLDKALQRVKGIALRRNNSNKDHTTDDT...</td>\n",
       "    </tr>\n",
       "    <tr>\n",
       "      <th>4</th>\n",
       "      <td>YNL331C</td>\n",
       "      <td>1</td>\n",
       "      <td>1</td>\n",
       "      <td>376</td>\n",
       "      <td>0 0 0 0 0 0 0 0 0 0 0 0 0 0 0 0 0 0 0 0 0 0 0 ...</td>\n",
       "      <td>MTDLFKPLPEPPTELGRLRVLSKTAGIRVSPLILGGASIGDAWSGF...</td>\n",
       "    </tr>\n",
       "  </tbody>\n",
       "</table>\n",
       "</div>"
      ],
      "text/plain": [
       "    orf_id  residues  total_ptm  len  \\\n",
       "0  YDR148C        14         14  463   \n",
       "1  YIL037C         1          1  656   \n",
       "2  YPL195W        30         30  932   \n",
       "3  YDL194W        15         15  884   \n",
       "4  YNL331C         1          1  376   \n",
       "\n",
       "                                               label  \\\n",
       "0  0 0 0 0 0 0 0 0 0 0 0 0 0 0 0 0 0 0 0 0 0 0 0 ...   \n",
       "1  0 0 0 0 0 0 0 0 0 0 0 0 0 0 0 0 0 0 0 0 0 0 0 ...   \n",
       "2  0 1 1 0 0 0 0 0 0 0 0 0 0 0 0 0 0 0 0 0 0 0 0 ...   \n",
       "3  0 0 0 0 0 0 0 0 0 0 0 0 0 0 0 0 0 0 0 0 0 0 0 ...   \n",
       "4  0 0 0 0 0 0 0 0 0 0 0 0 0 0 0 0 0 0 0 0 0 0 0 ...   \n",
       "\n",
       "                                                 seq  \n",
       "0  MLSRATRTAAAKSLVKSKVARNVMAASFVKRHASTSLFKQANKVES...  \n",
       "1  MNNVHIIKPLSLPQRFFSCIFHPLLLIFFTSVILTIWGSFSVIDIT...  \n",
       "2  MTSLYAPGAEDIRQRLRPFGFFFEKSLKDLIKGIRSHNETPEKLDQ...  \n",
       "3  MDPNSNSSSETLRQEKQGFLDKALQRVKGIALRRNNSNKDHTTDDT...  \n",
       "4  MTDLFKPLPEPPTELGRLRVLSKTAGIRVSPLILGGASIGDAWSGF...  "
      ]
     },
     "execution_count": 260,
     "metadata": {},
     "output_type": "execute_result"
    }
   ],
   "source": [
    "YAAM.head()"
   ]
  },
  {
   "cell_type": "code",
   "execution_count": 261,
   "id": "certified-remark",
   "metadata": {},
   "outputs": [],
   "source": [
    "YAAM.to_csv('./data/YAAM.csv')"
   ]
  },
  {
   "cell_type": "code",
   "execution_count": 263,
   "id": "future-watts",
   "metadata": {},
   "outputs": [
    {
     "data": {
      "text/html": [
       "<div>\n",
       "<style scoped>\n",
       "    .dataframe tbody tr th:only-of-type {\n",
       "        vertical-align: middle;\n",
       "    }\n",
       "\n",
       "    .dataframe tbody tr th {\n",
       "        vertical-align: top;\n",
       "    }\n",
       "\n",
       "    .dataframe thead th {\n",
       "        text-align: right;\n",
       "    }\n",
       "</style>\n",
       "<table border=\"1\" class=\"dataframe\">\n",
       "  <thead>\n",
       "    <tr style=\"text-align: right;\">\n",
       "      <th></th>\n",
       "      <th>Unnamed: 0</th>\n",
       "      <th>orf_id</th>\n",
       "      <th>residues</th>\n",
       "      <th>total_ptm</th>\n",
       "      <th>len</th>\n",
       "      <th>label</th>\n",
       "      <th>seq</th>\n",
       "    </tr>\n",
       "  </thead>\n",
       "  <tbody>\n",
       "    <tr>\n",
       "      <th>0</th>\n",
       "      <td>0</td>\n",
       "      <td>YDR148C</td>\n",
       "      <td>14</td>\n",
       "      <td>14</td>\n",
       "      <td>463</td>\n",
       "      <td>0 0 0 0 0 0 0 0 0 0 0 0 0 0 0 0 0 0 0 0 0 0 0 ...</td>\n",
       "      <td>MLSRATRTAAAKSLVKSKVARNVMAASFVKRHASTSLFKQANKVES...</td>\n",
       "    </tr>\n",
       "    <tr>\n",
       "      <th>1</th>\n",
       "      <td>1</td>\n",
       "      <td>YIL037C</td>\n",
       "      <td>1</td>\n",
       "      <td>1</td>\n",
       "      <td>656</td>\n",
       "      <td>0 0 0 0 0 0 0 0 0 0 0 0 0 0 0 0 0 0 0 0 0 0 0 ...</td>\n",
       "      <td>MNNVHIIKPLSLPQRFFSCIFHPLLLIFFTSVILTIWGSFSVIDIT...</td>\n",
       "    </tr>\n",
       "    <tr>\n",
       "      <th>2</th>\n",
       "      <td>2</td>\n",
       "      <td>YPL195W</td>\n",
       "      <td>30</td>\n",
       "      <td>30</td>\n",
       "      <td>932</td>\n",
       "      <td>0 1 1 0 0 0 0 0 0 0 0 0 0 0 0 0 0 0 0 0 0 0 0 ...</td>\n",
       "      <td>MTSLYAPGAEDIRQRLRPFGFFFEKSLKDLIKGIRSHNETPEKLDQ...</td>\n",
       "    </tr>\n",
       "    <tr>\n",
       "      <th>3</th>\n",
       "      <td>3</td>\n",
       "      <td>YDL194W</td>\n",
       "      <td>15</td>\n",
       "      <td>15</td>\n",
       "      <td>884</td>\n",
       "      <td>0 0 0 0 0 0 0 0 0 0 0 0 0 0 0 0 0 0 0 0 0 0 0 ...</td>\n",
       "      <td>MDPNSNSSSETLRQEKQGFLDKALQRVKGIALRRNNSNKDHTTDDT...</td>\n",
       "    </tr>\n",
       "    <tr>\n",
       "      <th>4</th>\n",
       "      <td>4</td>\n",
       "      <td>YNL331C</td>\n",
       "      <td>1</td>\n",
       "      <td>1</td>\n",
       "      <td>376</td>\n",
       "      <td>0 0 0 0 0 0 0 0 0 0 0 0 0 0 0 0 0 0 0 0 0 0 0 ...</td>\n",
       "      <td>MTDLFKPLPEPPTELGRLRVLSKTAGIRVSPLILGGASIGDAWSGF...</td>\n",
       "    </tr>\n",
       "    <tr>\n",
       "      <th>...</th>\n",
       "      <td>...</td>\n",
       "      <td>...</td>\n",
       "      <td>...</td>\n",
       "      <td>...</td>\n",
       "      <td>...</td>\n",
       "      <td>...</td>\n",
       "      <td>...</td>\n",
       "    </tr>\n",
       "    <tr>\n",
       "      <th>4868</th>\n",
       "      <td>4868</td>\n",
       "      <td>YNL309W</td>\n",
       "      <td>25</td>\n",
       "      <td>25</td>\n",
       "      <td>420</td>\n",
       "      <td>0 0 0 0 0 0 1 0 0 0 0 0 0 0 0 0 0 0 0 0 0 0 0 ...</td>\n",
       "      <td>MSQPQMSPEKEQELASKILHRAELAQMTRQLKLGLSNVPSTKRKQD...</td>\n",
       "    </tr>\n",
       "    <tr>\n",
       "      <th>4869</th>\n",
       "      <td>4869</td>\n",
       "      <td>YLR356W</td>\n",
       "      <td>5</td>\n",
       "      <td>5</td>\n",
       "      <td>197</td>\n",
       "      <td>0 0 0 0 0 0 0 0 0 0 0 0 0 0 0 0 0 0 0 0 0 0 0 ...</td>\n",
       "      <td>MSVCLAITKGIAVSSIGLYSGLLASASLITSTTPLEVLTGSLTPTL...</td>\n",
       "    </tr>\n",
       "    <tr>\n",
       "      <th>4870</th>\n",
       "      <td>4870</td>\n",
       "      <td>YDL006W</td>\n",
       "      <td>11</td>\n",
       "      <td>11</td>\n",
       "      <td>281</td>\n",
       "      <td>0 1 0 0 1 0 0 0 0 0 0 0 1 0 0 0 0 0 0 0 0 0 0 ...</td>\n",
       "      <td>MSNHSEILERPETPYDITYRVGVAENKNSKFRRTMEDVHTYVKNFA...</td>\n",
       "    </tr>\n",
       "    <tr>\n",
       "      <th>4871</th>\n",
       "      <td>4871</td>\n",
       "      <td>YIL109C</td>\n",
       "      <td>16</td>\n",
       "      <td>16</td>\n",
       "      <td>926</td>\n",
       "      <td>0 0 0 0 0 0 0 0 0 0 0 0 0 0 0 0 0 0 0 0 0 0 0 ...</td>\n",
       "      <td>MSHHKKRVYPQAQLQYGQNATPLQQPAQFMPPQDPAAAGMSYGQMG...</td>\n",
       "    </tr>\n",
       "    <tr>\n",
       "      <th>4872</th>\n",
       "      <td>4872</td>\n",
       "      <td>YPL277C</td>\n",
       "      <td>8</td>\n",
       "      <td>8</td>\n",
       "      <td>487</td>\n",
       "      <td>0 0 0 0 0 0 0 0 0 0 0 0 0 0 0 0 0 0 0 0 0 0 0 ...</td>\n",
       "      <td>MRFHRQGISAIIGVLLIVLLGFCWKLSGSYGIVSTALPHNQSAIKS...</td>\n",
       "    </tr>\n",
       "  </tbody>\n",
       "</table>\n",
       "<p>4873 rows × 7 columns</p>\n",
       "</div>"
      ],
      "text/plain": [
       "      Unnamed: 0   orf_id  residues  total_ptm  len  \\\n",
       "0              0  YDR148C        14         14  463   \n",
       "1              1  YIL037C         1          1  656   \n",
       "2              2  YPL195W        30         30  932   \n",
       "3              3  YDL194W        15         15  884   \n",
       "4              4  YNL331C         1          1  376   \n",
       "...          ...      ...       ...        ...  ...   \n",
       "4868        4868  YNL309W        25         25  420   \n",
       "4869        4869  YLR356W         5          5  197   \n",
       "4870        4870  YDL006W        11         11  281   \n",
       "4871        4871  YIL109C        16         16  926   \n",
       "4872        4872  YPL277C         8          8  487   \n",
       "\n",
       "                                                  label  \\\n",
       "0     0 0 0 0 0 0 0 0 0 0 0 0 0 0 0 0 0 0 0 0 0 0 0 ...   \n",
       "1     0 0 0 0 0 0 0 0 0 0 0 0 0 0 0 0 0 0 0 0 0 0 0 ...   \n",
       "2     0 1 1 0 0 0 0 0 0 0 0 0 0 0 0 0 0 0 0 0 0 0 0 ...   \n",
       "3     0 0 0 0 0 0 0 0 0 0 0 0 0 0 0 0 0 0 0 0 0 0 0 ...   \n",
       "4     0 0 0 0 0 0 0 0 0 0 0 0 0 0 0 0 0 0 0 0 0 0 0 ...   \n",
       "...                                                 ...   \n",
       "4868  0 0 0 0 0 0 1 0 0 0 0 0 0 0 0 0 0 0 0 0 0 0 0 ...   \n",
       "4869  0 0 0 0 0 0 0 0 0 0 0 0 0 0 0 0 0 0 0 0 0 0 0 ...   \n",
       "4870  0 1 0 0 1 0 0 0 0 0 0 0 1 0 0 0 0 0 0 0 0 0 0 ...   \n",
       "4871  0 0 0 0 0 0 0 0 0 0 0 0 0 0 0 0 0 0 0 0 0 0 0 ...   \n",
       "4872  0 0 0 0 0 0 0 0 0 0 0 0 0 0 0 0 0 0 0 0 0 0 0 ...   \n",
       "\n",
       "                                                    seq  \n",
       "0     MLSRATRTAAAKSLVKSKVARNVMAASFVKRHASTSLFKQANKVES...  \n",
       "1     MNNVHIIKPLSLPQRFFSCIFHPLLLIFFTSVILTIWGSFSVIDIT...  \n",
       "2     MTSLYAPGAEDIRQRLRPFGFFFEKSLKDLIKGIRSHNETPEKLDQ...  \n",
       "3     MDPNSNSSSETLRQEKQGFLDKALQRVKGIALRRNNSNKDHTTDDT...  \n",
       "4     MTDLFKPLPEPPTELGRLRVLSKTAGIRVSPLILGGASIGDAWSGF...  \n",
       "...                                                 ...  \n",
       "4868  MSQPQMSPEKEQELASKILHRAELAQMTRQLKLGLSNVPSTKRKQD...  \n",
       "4869  MSVCLAITKGIAVSSIGLYSGLLASASLITSTTPLEVLTGSLTPTL...  \n",
       "4870  MSNHSEILERPETPYDITYRVGVAENKNSKFRRTMEDVHTYVKNFA...  \n",
       "4871  MSHHKKRVYPQAQLQYGQNATPLQQPAQFMPPQDPAAAGMSYGQMG...  \n",
       "4872  MRFHRQGISAIIGVLLIVLLGFCWKLSGSYGIVSTALPHNQSAIKS...  \n",
       "\n",
       "[4873 rows x 7 columns]"
      ]
     },
     "execution_count": 263,
     "metadata": {},
     "output_type": "execute_result"
    }
   ],
   "source": [
    "pd.read_csv('./data/YAAM.csv')"
   ]
  }
 ],
 "metadata": {
  "kernelspec": {
   "display_name": "Python 3",
   "language": "python",
   "name": "python3"
  },
  "language_info": {
   "codemirror_mode": {
    "name": "ipython",
    "version": 3
   },
   "file_extension": ".py",
   "mimetype": "text/x-python",
   "name": "python",
   "nbconvert_exporter": "python",
   "pygments_lexer": "ipython3",
   "version": "3.8.5"
  }
 },
 "nbformat": 4,
 "nbformat_minor": 5
}
