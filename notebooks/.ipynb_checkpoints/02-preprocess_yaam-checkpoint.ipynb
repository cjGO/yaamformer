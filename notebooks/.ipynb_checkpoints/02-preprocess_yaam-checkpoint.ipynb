{
 "cells": [
  {
   "cell_type": "markdown",
   "id": "finished-copyright",
   "metadata": {},
   "source": [
    "## This notebook loads in the raw database scrape from previous notebook. The data is then parsed and tokenized and stored in a CSV for training models\n"
   ]
  },
  {
   "cell_type": "code",
   "execution_count": 1,
   "id": "liked-secondary",
   "metadata": {},
   "outputs": [],
   "source": [
    "import numpy as np\n",
    "import pandas as pd\n",
    "import json\n",
    "import pickle\n",
    "import matplotlib.pyplot as plt\n",
    "import seaborn as sns"
   ]
  },
  {
   "cell_type": "code",
   "execution_count": 2,
   "id": "canadian-cornwall",
   "metadata": {},
   "outputs": [
    {
     "name": "stdout",
     "output_type": "stream",
     "text": [
      "/home/glect/pytorch/yaamformer\n"
     ]
    }
   ],
   "source": [
    "%cd .."
   ]
  },
  {
   "cell_type": "markdown",
   "id": "behavioral-going",
   "metadata": {},
   "source": [
    "### Read in the scraped database file"
   ]
  },
  {
   "cell_type": "code",
   "execution_count": 3,
   "id": "handled-transcript",
   "metadata": {},
   "outputs": [],
   "source": [
    "with open('./data/orf.data', 'rb') as filehandle:\n",
    "    # read the data as binary data stream\n",
    "    yaamScrape = pickle.load(filehandle)"
   ]
  },
  {
   "cell_type": "markdown",
   "id": "associate-judge",
   "metadata": {},
   "source": [
    "### Collect the sequence and PTMs for each ORF"
   ]
  },
  {
   "cell_type": "code",
   "execution_count": 4,
   "id": "integral-cathedral",
   "metadata": {},
   "outputs": [],
   "source": [
    "#PTM types\n",
    "ptm_dict = {'Ca': 1,\n",
    " 'Methylation': 2,\n",
    " 'NtAcetylation': 3,\n",
    " 'Ubiquitination': 4,\n",
    " 'Disulfide': 5,\n",
    " 'Phosphorylation': 6,\n",
    " 'Succinylation': 7,\n",
    " 'Biotinylation': 8,\n",
    " 'Oxidation': 9,\n",
    " 'Nitration': 10,\n",
    " 'Metal': 11,\n",
    " 'Lipidation': 12,\n",
    " 'ActiveSite': 13,\n",
    " 'Glycosylation': 14,\n",
    " 'Acetylation': 15,\n",
    " 'Sumoylation': 16}\n"
   ]
  },
  {
   "cell_type": "code",
   "execution_count": 51,
   "id": "optimum-compromise",
   "metadata": {},
   "outputs": [],
   "source": [
    "def collect_ptms(orf_data):\n",
    "    \"\"\"\n",
    "    parses the data collected from YAAM database\n",
    "    \"\"\"\n",
    "    \n",
    "    #set up tracking dictionary\n",
    "    ptm_dict_store ={} #contains all positions of PTM and their types\n",
    "    for ptm_id in ptm_dict.values():\n",
    "        ptm_dict_store[ptm_id] = []\n",
    "\n",
    "    for i in orf_data:\n",
    "        #print(i)\n",
    "        #collect the position/type for each present PTM in the ORF\n",
    "\n",
    "        #single modification present -> simple\n",
    "        if i['modification'].count(',') == 0:\n",
    "            PTM_TOKEN = ptm_dict[i['modification']]\n",
    "            ptm_dict_store[PTM_TOKEN].append(i['position'])\n",
    "        #multiple modifications -> add steps\n",
    "        else:\n",
    "            mods = i['modification'].split(',')\n",
    "            for x in mods:\n",
    "                x = x.rstrip().lstrip() #bad white space present\n",
    "                #print\n",
    "                PTM_TOKEN = ptm_dict[x]\n",
    "                ptm_dict_store[PTM_TOKEN].append(i['position'])\n",
    "             \n",
    "    #collect which residues have PTMs\n",
    "    all_locations = []\n",
    "    #print(ptm_dict_store.values())\n",
    "    for i in ptm_dict_store.values():\n",
    "        for x in i:\n",
    "            all_locations.append(x)\n",
    "    #print(all_locations)\n",
    "    total_PTMs = len(all_locations) # some residues have multiple PTM potentially\n",
    "    all_locations = list(set(all_locations)) #remove duplicates\n",
    "    \n",
    "\n",
    "    return all_locations, total_PTMs\n",
    "\n",
    "\n",
    "#orf_len, ptm_profile\n",
    "def make_labels(orf_len, ptm_profile):\n",
    "    \"\"\"\n",
    "    takes sequence length, and locations of PTMs to return label for ML model \n",
    "    \"\"\"\n",
    "    labels = np.zeros(orf_len)\n",
    "    for i in ptm_profile:\n",
    "        labels[i-1] = 1\n",
    "    labels = labels.astype(int)\n",
    "    \n",
    "    #print(f' Unique Residues : {sum(labels)}')\n",
    "    return labels"
   ]
  },
  {
   "cell_type": "code",
   "execution_count": null,
   "id": "structural-secretariat",
   "metadata": {},
   "outputs": [],
   "source": []
  },
  {
   "cell_type": "code",
   "execution_count": 345,
   "id": "ancient-fiction",
   "metadata": {},
   "outputs": [
    {
     "name": "stdout",
     "output_type": "stream",
     "text": [
      "Approximately 99.5% of available ORFs included in final dataset\n"
     ]
    }
   ],
   "source": [
    "miss = 0\n",
    "sequences = []\n",
    "seq_lens = []\n",
    "labels = []\n",
    "\n",
    "with open('./data/YAAM.txt', 'w') as f:\n",
    "\n",
    "    for ORF in range(len(yaamScrape)):\n",
    "        try:\n",
    "            #print(ORF)\n",
    "            ORF = yaamScrape[ORF]\n",
    "            orf_id = ORF['orf']    \n",
    "            #collect ORF sequence + length\n",
    "            orf_seq = json.loads(str(ORF['seq']))['data'][0]['sequence']\n",
    "            #print('len',orf_len)\n",
    "            orf_seq = orf_seq.strip()\n",
    "            orf_len = len(orf_seq)\n",
    "            #collect PTM annotations\n",
    "            orf_ptms = json.loads(str(ORF['mod']))['data']\n",
    "            #print(orf_ptms)\n",
    "\n",
    "            ptm_profile, unique_ptms = collect_ptms(orf_ptms)\n",
    "            #print(ptm_profile,residues)\n",
    "            #print(unique_ptms)\n",
    "            #create annotation label\n",
    "            orf_labels = make_labels(orf_len,ptm_profile)\n",
    "\n",
    "\n",
    "            for i in ptm_profile:\n",
    "                locations.append(i/orf_len)\n",
    "\n",
    "            assert orf_len == len(orf_seq), 'Weird thing with sequence'\n",
    "            assert len(orf_labels.tolist()) == orf_len, \"labels mismatch\"\n",
    "            \n",
    "            sequences.append(orf_seq)\n",
    "            seq_lens.append(orf_len)\n",
    "            labels.append(orf_labels)\n",
    "            \n",
    "            f.writelines((f'{orf_id}\\t{orf_len}\\t{orf_labels.tolist()}\\t{sum(orf_labels)}\\t{unique_ptms}\\t{orf_seq}'))\n",
    "            f.writelines('\\n')\n",
    "        except:\n",
    "            miss +=1 #some ORFs have mispellings, random bugs\n",
    "\n",
    "    print(f'Approximately {round(1-(miss/len(yaamScrape)),3) * 100}% of available ORFs included in final dataset')"
   ]
  },
  {
   "cell_type": "code",
   "execution_count": 346,
   "id": "presidential-occasions",
   "metadata": {},
   "outputs": [
    {
     "data": {
      "text/plain": [
       "True"
      ]
     },
     "execution_count": 346,
     "metadata": {},
     "output_type": "execute_result"
    }
   ],
   "source": [
    "sequenceL = [len(x) for x in sequences]\n",
    "labelsL = [len(x) for x in labels]\n",
    "sequenceL == seq_lens"
   ]
  },
  {
   "cell_type": "markdown",
   "id": "boxed-single",
   "metadata": {},
   "source": [
    "### Post-process data (tokenizaton) and put in a dataframe"
   ]
  },
  {
   "cell_type": "code",
   "execution_count": 149,
   "id": "boxed-crisis",
   "metadata": {},
   "outputs": [
    {
     "data": {
      "text/plain": [
       "{'M': 1,\n",
       " 'L': 2,\n",
       " 'S': 3,\n",
       " 'R': 4,\n",
       " 'A': 5,\n",
       " 'T': 6,\n",
       " 'K': 7,\n",
       " 'V': 8,\n",
       " 'N': 9,\n",
       " 'F': 10,\n",
       " 'H': 11,\n",
       " 'Q': 12,\n",
       " 'E': 13,\n",
       " 'G': 14,\n",
       " 'I': 15,\n",
       " 'Y': 16,\n",
       " 'P': 17,\n",
       " 'D': 18,\n",
       " 'C': 19,\n",
       " 'W': 20}"
      ]
     },
     "execution_count": 149,
     "metadata": {},
     "output_type": "execute_result"
    }
   ],
   "source": [
    "#get amino acid set\n",
    "\n",
    "aa_list = []\n",
    "\n",
    "for s in YAAM['seq']:\n",
    "    if (len(aa_list) < 20):\n",
    "        for aa in s:\n",
    "            if aa in aa_list:\n",
    "                pass\n",
    "            else:\n",
    "                aa_list.append(aa)\n",
    "                \n",
    "aa_dict = {}\n",
    "for aa in range(len(aa_list)):\n",
    "    aa_dict[aa_list[aa]] = aa+1\n",
    "aa_dict"
   ]
  },
  {
   "cell_type": "code",
   "execution_count": 118,
   "id": "fiscal-express",
   "metadata": {},
   "outputs": [],
   "source": [
    "# tokenized_proteins = []\n",
    "# count=0\n",
    "# for protein in YAAM['seq']:\n",
    "#     protein = ''.join(ch for ch in protein if ch.isupper())\n",
    "#     #print(protein)\n",
    "#     #print()\n",
    "#     tokenized_proteins.append([aa_dict[i] for i in protein])\n",
    "# YAAM['token_proteins'] = tokenized_proteins"
   ]
  },
  {
   "cell_type": "markdown",
   "id": "vocational-rally",
   "metadata": {},
   "source": [
    "### Count the total number of observed PTMs per type"
   ]
  },
  {
   "cell_type": "code",
   "execution_count": 11,
   "id": "controlling-charity",
   "metadata": {},
   "outputs": [
    {
     "data": {
      "text/plain": [
       "{'Ca': 23.0,\n",
       " 'Methylation': 229.0,\n",
       " 'NtAcetylation': 746.0,\n",
       " 'Ubiquitination': 8535.0,\n",
       " 'Disulfide': 257.0,\n",
       " 'Phosphorylation': 33967.0,\n",
       " 'Succinylation': 1701.0,\n",
       " 'Biotinylation': 1.0,\n",
       " 'Oxidation': 830.0,\n",
       " 'Nitration': 14.0,\n",
       " 'Metal': 1782.0,\n",
       " 'Lipidation': 141.0,\n",
       " 'ActiveSite': 1085.0,\n",
       " 'Glycosylation': 1959.0,\n",
       " 'Acetylation': 6773.0,\n",
       " 'Sumoylation': 86.0}"
      ]
     },
     "execution_count": 11,
     "metadata": {},
     "output_type": "execute_result"
    }
   ],
   "source": [
    "ptm_counter = {}\n",
    "\n",
    "for i in range(len(ptm_dict.keys())):\n",
    "    ptm_counter[i] = 0\n",
    "\n",
    "for ptms in YAAM['annotations']:\n",
    "    for c,i in enumerate(ptms):\n",
    "        ptm_counter[c] += sum(i)\n",
    "        \n",
    "ptm_counts = {}\n",
    "for c,i in enumerate(ptm_dict.keys()):\n",
    "    ptm_counts[i] = ptm_counter[c]\n",
    "ptm_counts"
   ]
  },
  {
   "cell_type": "markdown",
   "id": "advance-viking",
   "metadata": {},
   "source": [
    "### Visualize Sequence Lengths"
   ]
  },
  {
   "cell_type": "code",
   "execution_count": 110,
   "id": "handmade-destruction",
   "metadata": {},
   "outputs": [
    {
     "data": {
      "text/plain": [
       "<AxesSubplot:>"
      ]
     },
     "execution_count": 110,
     "metadata": {},
     "output_type": "execute_result"
    },
    {
     "data": {
      "image/png": "[encoded data removed]",
      "text/plain": [
       "<Figure size 432x288 with 1 Axes>"
      ]
     },
     "metadata": {
      "needs_background": "light"
     },
     "output_type": "display_data"
    }
   ],
   "source": [
    "YAAM['seq'].map(len).hist(bins=50)"
   ]
  },
  {
   "cell_type": "markdown",
   "id": "alternate-virgin",
   "metadata": {},
   "source": [
    "### Visualize total PTM residues"
   ]
  },
  {
   "cell_type": "code",
   "execution_count": 13,
   "id": "distinct-manchester",
   "metadata": {},
   "outputs": [],
   "source": [
    "total_ptm = YAAM['total_ptm'].values\n",
    "total_residue = YAAM['unique_residues'].values\n",
    "\n",
    "# plt.hist(total_ptm,bins=30)\n",
    "# plt.hist(total_residue,bins=30)\n",
    "# plt.show()"
   ]
  },
  {
   "cell_type": "code",
   "execution_count": 14,
   "id": "informal-federation",
   "metadata": {},
   "outputs": [
    {
     "data": {
      "text/plain": [
       "<seaborn.axisgrid.FacetGrid at 0x7fe739d836d0>"
      ]
     },
     "execution_count": 14,
     "metadata": {},
     "output_type": "execute_result"
    },
    {
     "data": {
      "image/png": "[encoded data removed]",
      "text/plain": [
       "<Figure size 438.25x360 with 1 Axes>"
      ]
     },
     "metadata": {
      "needs_background": "light"
     },
     "output_type": "display_data"
    }
   ],
   "source": [
    "sns.displot({'ptms':total_ptm,\n",
    " 'residues':total_residue},\n",
    "           kind='hist',\n",
    "           bins=50,\n",
    "           alpha=.5)"
   ]
  },
  {
   "cell_type": "code",
   "execution_count": 57,
   "id": "fatty-anniversary",
   "metadata": {},
   "outputs": [
    {
     "data": {
      "text/plain": [
       "<seaborn.axisgrid.FacetGrid at 0x7f1ba1951820>"
      ]
     },
     "execution_count": 57,
     "metadata": {},
     "output_type": "execute_result"
    },
    {
     "data": {
      "image/png": "[encoded data removed]",
      "text/plain": [
       "<Figure size 360x360 with 1 Axes>"
      ]
     },
     "metadata": {
      "needs_background": "light"
     },
     "output_type": "display_data"
    }
   ],
   "source": [
    "ax = sns.displot(locations)\n",
    "ax.set(xlabel='Sequence Length', ylabel='PTM Freq')\n"
   ]
  },
  {
   "cell_type": "markdown",
   "id": "viral-palestine",
   "metadata": {},
   "source": [
    "### Load in the saved dataset from the txt file"
   ]
  },
  {
   "cell_type": "code",
   "execution_count": 347,
   "id": "czech-plumbing",
   "metadata": {},
   "outputs": [],
   "source": [
    "# Using readline()\n",
    "file1 = open('./data/YAAM.txt', 'r')\n",
    "count = 0\n",
    "\n",
    "Seqs = []\n",
    "Labels = []\n",
    "\n",
    "while True:\n",
    "    count += 1\n",
    "    #print(count)\n",
    "    # Get next line from file\n",
    "    line = file1.readline()\n",
    "    \n",
    "    if not line:\n",
    "        break\n",
    "\n",
    "    labels = literal_eval(line.split('\\t')[2])\n",
    "    seqs = line.split('\\t')[5]\n",
    "    seqs = seqs.replace('\\n','')\n",
    "    assert len(seqs) == len(labels), 'MISMATCH'\n",
    "    Seqs.append(seqs)\n",
    "    Labels.append(labels)\n",
    "    # if line is empty\n",
    "    # end of file is reached\n",
    "#     if count >20:\n",
    "#         break\n"
   ]
  },
  {
   "cell_type": "code",
   "execution_count": 348,
   "id": "developed-nebraska",
   "metadata": {},
   "outputs": [
    {
     "data": {
      "text/plain": [
       "4874"
      ]
     },
     "execution_count": 348,
     "metadata": {},
     "output_type": "execute_result"
    }
   ],
   "source": [
    "count"
   ]
  },
  {
   "cell_type": "code",
   "execution_count": 349,
   "id": "supreme-stick",
   "metadata": {},
   "outputs": [
    {
     "data": {
      "text/plain": [
       "4873"
      ]
     },
     "execution_count": 349,
     "metadata": {},
     "output_type": "execute_result"
    }
   ],
   "source": [
    "len(Seqs)"
   ]
  },
  {
   "cell_type": "code",
   "execution_count": 350,
   "id": "direct-livestock",
   "metadata": {},
   "outputs": [
    {
     "data": {
      "text/plain": [
       "4873"
      ]
     },
     "execution_count": 350,
     "metadata": {},
     "output_type": "execute_result"
    }
   ],
   "source": [
    "len(Labels)"
   ]
  },
  {
   "cell_type": "code",
   "execution_count": 351,
   "id": "early-nancy",
   "metadata": {},
   "outputs": [],
   "source": [
    "verify_labels = [len(x) for x in Labels]\n",
    "verify_seqs = [len(x) for x in Seqs]"
   ]
  },
  {
   "cell_type": "code",
   "execution_count": 352,
   "id": "expected-selling",
   "metadata": {},
   "outputs": [
    {
     "data": {
      "text/plain": [
       "True"
      ]
     },
     "execution_count": 352,
     "metadata": {},
     "output_type": "execute_result"
    }
   ],
   "source": [
    "verify_labels == verify_seqs"
   ]
  },
  {
   "cell_type": "code",
   "execution_count": null,
   "id": "departmental-atmosphere",
   "metadata": {},
   "outputs": [],
   "source": []
  }
 ],
 "metadata": {
  "kernelspec": {
   "display_name": "Python 3",
   "language": "python",
   "name": "python3"
  },
  "language_info": {
   "codemirror_mode": {
    "name": "ipython",
    "version": 3
   },
   "file_extension": ".py",
   "mimetype": "text/x-python",
   "name": "python",
   "nbconvert_exporter": "python",
   "pygments_lexer": "ipython3",
   "version": "3.8.5"
  }
 },
 "nbformat": 4,
 "nbformat_minor": 5
}
