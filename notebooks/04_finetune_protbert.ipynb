{
  "cells": [
    {
      "cell_type": "code",
      "execution_count": 1,
      "metadata": {
        "colab": {
          "base_uri": "https://localhost:8080/"
        },
        "id": "itobxAwPOyvB",
        "outputId": "389c5696-ef36-4490-f10e-08baae40b331"
      },
      "outputs": [
        {
          "output_type": "stream",
          "name": "stdout",
          "text": [
            "Requirement already satisfied: transformers in /usr/local/lib/python3.7/dist-packages (4.15.0)\n",
            "Requirement already satisfied: regex!=2019.12.17 in /usr/local/lib/python3.7/dist-packages (from transformers) (2019.12.20)\n",
            "Requirement already satisfied: huggingface-hub<1.0,>=0.1.0 in /usr/local/lib/python3.7/dist-packages (from transformers) (0.2.1)\n",
            "Requirement already satisfied: filelock in /usr/local/lib/python3.7/dist-packages (from transformers) (3.4.0)\n",
            "Requirement already satisfied: packaging>=20.0 in /usr/local/lib/python3.7/dist-packages (from transformers) (21.3)\n",
            "Requirement already satisfied: tokenizers<0.11,>=0.10.1 in /usr/local/lib/python3.7/dist-packages (from transformers) (0.10.3)\n",
            "Requirement already satisfied: tqdm>=4.27 in /usr/local/lib/python3.7/dist-packages (from transformers) (4.62.3)\n",
            "Requirement already satisfied: importlib-metadata in /usr/local/lib/python3.7/dist-packages (from transformers) (4.8.2)\n",
            "Requirement already satisfied: numpy>=1.17 in /usr/local/lib/python3.7/dist-packages (from transformers) (1.19.5)\n",
            "Requirement already satisfied: sacremoses in /usr/local/lib/python3.7/dist-packages (from transformers) (0.0.46)\n",
            "Requirement already satisfied: requests in /usr/local/lib/python3.7/dist-packages (from transformers) (2.23.0)\n",
            "Requirement already satisfied: pyyaml>=5.1 in /usr/local/lib/python3.7/dist-packages (from transformers) (6.0)\n",
            "Requirement already satisfied: typing-extensions>=3.7.4.3 in /usr/local/lib/python3.7/dist-packages (from huggingface-hub<1.0,>=0.1.0->transformers) (3.10.0.2)\n",
            "Requirement already satisfied: pyparsing!=3.0.5,>=2.0.2 in /usr/local/lib/python3.7/dist-packages (from packaging>=20.0->transformers) (3.0.6)\n",
            "Requirement already satisfied: zipp>=0.5 in /usr/local/lib/python3.7/dist-packages (from importlib-metadata->transformers) (3.6.0)\n",
            "Requirement already satisfied: urllib3!=1.25.0,!=1.25.1,<1.26,>=1.21.1 in /usr/local/lib/python3.7/dist-packages (from requests->transformers) (1.24.3)\n",
            "Requirement already satisfied: chardet<4,>=3.0.2 in /usr/local/lib/python3.7/dist-packages (from requests->transformers) (3.0.4)\n",
            "Requirement already satisfied: certifi>=2017.4.17 in /usr/local/lib/python3.7/dist-packages (from requests->transformers) (2021.10.8)\n",
            "Requirement already satisfied: idna<3,>=2.5 in /usr/local/lib/python3.7/dist-packages (from requests->transformers) (2.10)\n",
            "Requirement already satisfied: click in /usr/local/lib/python3.7/dist-packages (from sacremoses->transformers) (7.1.2)\n",
            "Requirement already satisfied: six in /usr/local/lib/python3.7/dist-packages (from sacremoses->transformers) (1.15.0)\n",
            "Requirement already satisfied: joblib in /usr/local/lib/python3.7/dist-packages (from sacremoses->transformers) (1.1.0)\n"
          ]
        }
      ],
      "source": [
        "!pip install transformers"
      ]
    },
    {
      "cell_type": "code",
      "execution_count": 2,
      "metadata": {
        "colab": {
          "base_uri": "https://localhost:8080/"
        },
        "id": "tpjl-5TaWkmv",
        "outputId": "9c99b096-571a-4049-c872-5bf4a00131c5"
      },
      "outputs": [
        {
          "output_type": "stream",
          "name": "stdout",
          "text": [
            "fatal: destination path 'yaamformer' already exists and is not an empty directory.\n"
          ]
        }
      ],
      "source": [
        "!git clone https://github.com/cjGO/yaamformer.git"
      ]
    },
    {
      "cell_type": "code",
      "execution_count": 3,
      "metadata": {
        "id": "W3BEBQhMQzy2"
      },
      "outputs": [],
      "source": [
        "from ast import literal_eval\n",
        "from yaamformer.utils import get_dataset\n"
      ]
    },
    {
      "cell_type": "code",
      "execution_count": 4,
      "metadata": {
        "id": "fe8J5ewZRahO"
      },
      "outputs": [],
      "source": [
        "def get_dataset(file_location):# Using readline()\n",
        "    file1 = open(file_location, 'r')\n",
        "    count = 0\n",
        "\n",
        "    Seqs = []\n",
        "    Labels = []\n",
        "\n",
        "    while True:\n",
        "        count += 1\n",
        "        #print(count)\n",
        "        # Get next line from file\n",
        "        line = file1.readline()\n",
        "\n",
        "        if not line:\n",
        "            break\n",
        "\n",
        "        labels = literal_eval(line.split('\\t')[2])\n",
        "        seqs = line.split('\\t')[5]\n",
        "        seqs = seqs.replace('\\n','')\n",
        "        assert len(seqs) == len(labels), 'MISMATCH'\n",
        "        Seqs.append(seqs)\n",
        "        Labels.append(labels)\n",
        "        # if line is empty\n",
        "        # end of file is reached\n",
        "    #     if count >20:\n",
        "    #         break\n",
        "    return Seqs,Labels\n"
      ]
    },
    {
      "cell_type": "code",
      "execution_count": 5,
      "metadata": {
        "id": "wpInOeKbPRhD"
      },
      "outputs": [],
      "source": [
        "import pandas as pd\n",
        "import numpy as np\n",
        "import re\n",
        "import torch\n",
        "\n",
        "\n",
        "\n",
        "Seqs,Labels = get_dataset('./yaamformer/data/YAAM.txt')\n",
        "\n",
        "def tokenize_protein(sequence):\n",
        "  #print(sequence)\n",
        "  sequence = re.sub(r\"[UZOB]\", \"X\", sequence)\n",
        "  sequence = ' '.join(sequence.replace('\\n',''))\n",
        "  return sequence\n",
        "\n",
        "class NERprotein(torch.utils.data.Dataset):\n",
        "    def __init__(self, encodings, labels):\n",
        "        self.encodings = encodings\n",
        "        self.labels = labels\n",
        "\n",
        "    def __getitem__(self, idx):\n",
        "        item = {key: torch.tensor(val[idx]) for key, val in self.encodings.items()}\n",
        "        item['labels'] = torch.tensor(self.labels[idx])\n",
        "        return item\n",
        "\n",
        "    def __len__(self):\n",
        "        return len(self.encodings['input_ids'])\n",
        "\n"
      ]
    },
    {
      "cell_type": "code",
      "execution_count": 6,
      "metadata": {
        "colab": {
          "base_uri": "https://localhost:8080/"
        },
        "id": "BhgbPSuiSZn4",
        "outputId": "38756bcf-9432-41af-f6f7-637ce017050e"
      },
      "outputs": [
        {
          "output_type": "stream",
          "name": "stdout",
          "text": [
            "0.02109174836588914\n"
          ]
        }
      ],
      "source": [
        "sum_seq = 0\n",
        "for i in Seqs:\n",
        "  sum_seq += len(i)\n",
        "\n",
        "  sum_rez = 0\n",
        "for i in Labels:\n",
        "  sum_rez += sum(i)\n",
        "\n",
        "print(f'Residues in total dataset with PTMs {sum_rez/sum_seq}')"
      ]
    },
    {
      "cell_type": "code",
      "execution_count": 7,
      "metadata": {
        "id": "xURiLfxdSiOD"
      },
      "outputs": [],
      "source": [
        "yaam = pd.DataFrame({'seq':Seqs,\n",
        "                     'label':Labels})"
      ]
    },
    {
      "cell_type": "code",
      "source": [
        "yaam['len'] = yaam['seq'].map(len)"
      ],
      "metadata": {
        "id": "MavTrigFMAJo"
      },
      "execution_count": 8,
      "outputs": []
    },
    {
      "cell_type": "code",
      "source": [
        "max_length=1024\n",
        "\n",
        "yaam = yaam[yaam['len'] < max_length]"
      ],
      "metadata": {
        "id": "wgnmFzsdMGve"
      },
      "execution_count": 9,
      "outputs": []
    },
    {
      "cell_type": "code",
      "source": [
        "print(len(yaam))"
      ],
      "metadata": {
        "colab": {
          "base_uri": "https://localhost:8080/"
        },
        "id": "t_OlwLJ7MNOE",
        "outputId": "11f49bcf-19e7-4971-a928-417a8db09008"
      },
      "execution_count": 10,
      "outputs": [
        {
          "output_type": "stream",
          "name": "stdout",
          "text": [
            "4385\n"
          ]
        }
      ]
    },
    {
      "cell_type": "code",
      "source": [
        "test_label = yaam['label'].values[0]\n",
        "new_label = np.zeros(1024)\n",
        "new_label[:len(test_label)]=test_label\n",
        "new_label"
      ],
      "metadata": {
        "colab": {
          "base_uri": "https://localhost:8080/"
        },
        "id": "W-yMxa_YZoGd",
        "outputId": "f9a05c90-b505-4566-d0f7-bee2c42c14bd"
      },
      "execution_count": 11,
      "outputs": [
        {
          "output_type": "execute_result",
          "data": {
            "text/plain": [
              "array([0., 0., 0., ..., 0., 0., 0.])"
            ]
          },
          "metadata": {},
          "execution_count": 11
        }
      ]
    },
    {
      "cell_type": "code",
      "source": [
        "def pad_labels(label,max_length=1024):\n",
        "  new_label = np.zeros(max_length)\n",
        "  new_label[:len(label)] = label\n",
        "  return new_label"
      ],
      "metadata": {
        "id": "89dTABSHZPWJ"
      },
      "execution_count": 12,
      "outputs": []
    },
    {
      "cell_type": "code",
      "source": [
        "#pad the labels for batch training\n",
        "yaam['label'] = yaam['label'].map(pad_labels)"
      ],
      "metadata": {
        "id": "EajMFh6AZeWu"
      },
      "execution_count": 13,
      "outputs": []
    },
    {
      "cell_type": "code",
      "execution_count": 14,
      "metadata": {
        "id": "y756Or_sRPVf"
      },
      "outputs": [],
      "source": [
        "#tokenize the sequences\n",
        "from sklearn.model_selection import train_test_split\n",
        "from transformers import BertForMaskedLM, BertTokenizer, pipeline\n"
      ]
    },
    {
      "cell_type": "code",
      "source": [
        "train, test = train_test_split(yaam, test_size=0.2)\n",
        "\n",
        "train = train.reset_index()\n",
        "test = test.reset_index()"
      ],
      "metadata": {
        "id": "CkNwt7xwPFRY"
      },
      "execution_count": 17,
      "outputs": []
    },
    {
      "cell_type": "code",
      "execution_count": 19,
      "metadata": {
        "id": "HqH_KgLpR54K"
      },
      "outputs": [],
      "source": [
        "train_encodings = [tokenize_protein(x) for x in train['seq']]\n",
        "test_encodings = [tokenize_protein(x) for x in test['seq']]\n",
        "\n",
        "tokenizer = BertTokenizer.from_pretrained(\"Rostlab/prot_bert\", do_lower_case=False, max_length=1024)\n",
        "train_encodings = tokenizer(train_encodings, padding='max_length', max_length=1024, truncation=True)\n",
        "test_encodings = tokenizer(test_encodings, padding='max_length', max_length=1024, truncation=True)#padding=True\n",
        "\n",
        "train_labels = train['label']\n",
        "test_labels = test['label']\n",
        "\n",
        "train_dataset = NERprotein(train_encodings, train_labels)\n",
        "test_dataset = NERprotein(test_encodings, test_labels)"
      ]
    },
    {
      "cell_type": "code",
      "execution_count": 21,
      "metadata": {
        "colab": {
          "base_uri": "https://localhost:8080/"
        },
        "id": "TioTB1YCSZXl",
        "outputId": "92ca7908-24eb-4f60-be04-8b5ab104fddc"
      },
      "outputs": [
        {
          "output_type": "stream",
          "name": "stderr",
          "text": [
            "Some weights of the model checkpoint at Rostlab/prot_bert were not used when initializing BertForTokenClassification: ['cls.predictions.transform.LayerNorm.weight', 'cls.predictions.decoder.bias', 'cls.predictions.decoder.weight', 'cls.predictions.transform.dense.bias', 'cls.seq_relationship.weight', 'cls.seq_relationship.bias', 'cls.predictions.transform.LayerNorm.bias', 'cls.predictions.transform.dense.weight', 'cls.predictions.bias']\n",
            "- This IS expected if you are initializing BertForTokenClassification from the checkpoint of a model trained on another task or with another architecture (e.g. initializing a BertForSequenceClassification model from a BertForPreTraining model).\n",
            "- This IS NOT expected if you are initializing BertForTokenClassification from the checkpoint of a model that you expect to be exactly identical (initializing a BertForSequenceClassification model from a BertForSequenceClassification model).\n",
            "Some weights of BertForTokenClassification were not initialized from the model checkpoint at Rostlab/prot_bert and are newly initialized: ['classifier.weight', 'classifier.bias']\n",
            "You should probably TRAIN this model on a down-stream task to be able to use it for predictions and inference.\n"
          ]
        }
      ],
      "source": [
        "from transformers import BertModel, BertTokenizer, BertForTokenClassification\n",
        "import re\n",
        "\n",
        "model = BertForTokenClassification.from_pretrained(\"Rostlab/prot_bert\",)"
      ]
    },
    {
      "cell_type": "code",
      "execution_count": 22,
      "metadata": {
        "id": "C8Uigi0OS6eg"
      },
      "outputs": [],
      "source": [
        "from transformers import DataCollatorForTokenClassification\n",
        "from transformers import TrainingArguments, Trainer"
      ]
    },
    {
      "cell_type": "code",
      "execution_count": 29,
      "metadata": {
        "id": "rvcDPv7STeQc",
        "colab": {
          "base_uri": "https://localhost:8080/"
        },
        "outputId": "f3a7155e-d3e0-453e-a65e-1e8b630ef7f2"
      },
      "outputs": [
        {
          "output_type": "stream",
          "name": "stderr",
          "text": [
            "using `logging_steps` to initialize `eval_steps` to 50\n",
            "PyTorch: setting up devices\n",
            "The default value for the training argument `--report_to` will change in v5 (from all installed integrations to none). In v5, you will need to use `--report_to all` to get the same behavior as now. You should start updating your code and make this info disappear :-).\n"
          ]
        }
      ],
      "source": [
        "data_collator = DataCollatorForTokenClassification(tokenizer=tokenizer,padding=True,)\n",
        "\n",
        "training_args = TrainingArguments(\n",
        "    output_dir='./',          # output directory to where save model checkpoint\n",
        "    evaluation_strategy=\"steps\",    # evaluate each `logging_steps` steps\n",
        "    overwrite_output_dir=True,      \n",
        "    num_train_epochs=10,            # number of training epochs, feel free to tweak\n",
        "    per_device_train_batch_size=4, # the training batch size, put it as high as your GPU memory fits\n",
        "    gradient_accumulation_steps=4,  # accumulating the gradients before updating the weights\n",
        "    per_device_eval_batch_size=4,  # evaluation batch size\n",
        "    logging_steps=50,             # evaluate, log and save model checkpoints every 1000 step\n",
        "    save_steps=50,\n",
        "    gradient_checkpointing = True,\n",
        "    # load_best_model_at_end=True,  # whether to load the best model (in terms of loss) at the end of training\n",
        "    # save_total_limit=3,           # whether you don't have much space so you let only 3 model weights saved in the disk\n",
        ")\n",
        "\n",
        "\n",
        "trainer = Trainer(\n",
        "    model=model,\n",
        "    args=training_args,\n",
        "    data_collator=data_collator,\n",
        "    train_dataset=train_dataset,\n",
        "    eval_dataset=test_dataset,\n",
        ")\n"
      ]
    },
    {
      "cell_type": "code",
      "execution_count": 30,
      "metadata": {
        "id": "vSEfa3uLZIyy"
      },
      "outputs": [],
      "source": [
        "#trainer.train_dataset[0]"
      ]
    },
    {
      "cell_type": "code",
      "execution_count": null,
      "metadata": {
        "colab": {
          "base_uri": "https://localhost:8080/",
          "height": 1000
        },
        "id": "QAin3lfZYEcp",
        "outputId": "0a27d368-ae6a-4314-d262-068102774f44"
      },
      "outputs": [
        {
          "output_type": "stream",
          "name": "stderr",
          "text": [
            "***** Running training *****\n",
            "  Num examples = 3508\n",
            "  Num Epochs = 10\n",
            "  Instantaneous batch size per device = 4\n",
            "  Total train batch size (w. parallel, distributed & accumulation) = 16\n",
            "  Gradient Accumulation steps = 4\n",
            "  Total optimization steps = 2190\n",
            "/usr/local/lib/python3.7/dist-packages/transformers/data/data_collator.py:317: UserWarning: To copy construct from a tensor, it is recommended to use sourceTensor.clone().detach() or sourceTensor.clone().detach().requires_grad_(True), rather than torch.tensor(sourceTensor).\n",
            "  sequence_length = torch.tensor(batch[\"input_ids\"]).shape[1]\n",
            "/usr/local/lib/python3.7/dist-packages/transformers/data/data_collator.py:328: UserWarning: To copy construct from a tensor, it is recommended to use sourceTensor.clone().detach() or sourceTensor.clone().detach().requires_grad_(True), rather than torch.tensor(sourceTensor).\n",
            "  batch = {k: torch.tensor(v, dtype=torch.int64) for k, v in batch.items()}\n"
          ]
        },
        {
          "output_type": "display_data",
          "data": {
            "text/html": [
              "\n",
              "    <div>\n",
              "      \n",
              "      <progress value='258' max='2190' style='width:300px; height:20px; vertical-align: middle;'></progress>\n",
              "      [ 258/2190 1:41:41 < 12:47:30, 0.04 it/s, Epoch 1.17/10]\n",
              "    </div>\n",
              "    <table border=\"1\" class=\"dataframe\">\n",
              "  <thead>\n",
              "    <tr style=\"text-align: left;\">\n",
              "      <th>Step</th>\n",
              "      <th>Training Loss</th>\n",
              "      <th>Validation Loss</th>\n",
              "    </tr>\n",
              "  </thead>\n",
              "  <tbody>\n",
              "    <tr>\n",
              "      <td>50</td>\n",
              "      <td>0.108700</td>\n",
              "      <td>0.094599</td>\n",
              "    </tr>\n",
              "    <tr>\n",
              "      <td>100</td>\n",
              "      <td>0.080800</td>\n",
              "      <td>0.079664</td>\n",
              "    </tr>\n",
              "    <tr>\n",
              "      <td>150</td>\n",
              "      <td>0.072500</td>\n",
              "      <td>0.069943</td>\n",
              "    </tr>\n",
              "    <tr>\n",
              "      <td>200</td>\n",
              "      <td>0.068300</td>\n",
              "      <td>0.064946</td>\n",
              "    </tr>\n",
              "    <tr>\n",
              "      <td>250</td>\n",
              "      <td>0.061000</td>\n",
              "      <td>0.064817</td>\n",
              "    </tr>\n",
              "  </tbody>\n",
              "</table><p>"
            ],
            "text/plain": [
              "<IPython.core.display.HTML object>"
            ]
          },
          "metadata": {}
        },
        {
          "output_type": "stream",
          "name": "stderr",
          "text": [
            "***** Running Evaluation *****\n",
            "  Num examples = 877\n",
            "  Batch size = 4\n",
            "Saving model checkpoint to ./checkpoint-50\n",
            "Configuration saved in ./checkpoint-50/config.json\n",
            "Model weights saved in ./checkpoint-50/pytorch_model.bin\n",
            "/usr/local/lib/python3.7/dist-packages/transformers/data/data_collator.py:317: UserWarning: To copy construct from a tensor, it is recommended to use sourceTensor.clone().detach() or sourceTensor.clone().detach().requires_grad_(True), rather than torch.tensor(sourceTensor).\n",
            "  sequence_length = torch.tensor(batch[\"input_ids\"]).shape[1]\n",
            "/usr/local/lib/python3.7/dist-packages/transformers/data/data_collator.py:328: UserWarning: To copy construct from a tensor, it is recommended to use sourceTensor.clone().detach() or sourceTensor.clone().detach().requires_grad_(True), rather than torch.tensor(sourceTensor).\n",
            "  batch = {k: torch.tensor(v, dtype=torch.int64) for k, v in batch.items()}\n",
            "***** Running Evaluation *****\n",
            "  Num examples = 877\n",
            "  Batch size = 4\n",
            "Saving model checkpoint to ./checkpoint-100\n",
            "Configuration saved in ./checkpoint-100/config.json\n",
            "Model weights saved in ./checkpoint-100/pytorch_model.bin\n",
            "/usr/local/lib/python3.7/dist-packages/transformers/data/data_collator.py:317: UserWarning: To copy construct from a tensor, it is recommended to use sourceTensor.clone().detach() or sourceTensor.clone().detach().requires_grad_(True), rather than torch.tensor(sourceTensor).\n",
            "  sequence_length = torch.tensor(batch[\"input_ids\"]).shape[1]\n",
            "/usr/local/lib/python3.7/dist-packages/transformers/data/data_collator.py:328: UserWarning: To copy construct from a tensor, it is recommended to use sourceTensor.clone().detach() or sourceTensor.clone().detach().requires_grad_(True), rather than torch.tensor(sourceTensor).\n",
            "  batch = {k: torch.tensor(v, dtype=torch.int64) for k, v in batch.items()}\n",
            "***** Running Evaluation *****\n",
            "  Num examples = 877\n",
            "  Batch size = 4\n",
            "Saving model checkpoint to ./checkpoint-150\n",
            "Configuration saved in ./checkpoint-150/config.json\n",
            "Model weights saved in ./checkpoint-150/pytorch_model.bin\n",
            "/usr/local/lib/python3.7/dist-packages/transformers/data/data_collator.py:317: UserWarning: To copy construct from a tensor, it is recommended to use sourceTensor.clone().detach() or sourceTensor.clone().detach().requires_grad_(True), rather than torch.tensor(sourceTensor).\n",
            "  sequence_length = torch.tensor(batch[\"input_ids\"]).shape[1]\n",
            "/usr/local/lib/python3.7/dist-packages/transformers/data/data_collator.py:328: UserWarning: To copy construct from a tensor, it is recommended to use sourceTensor.clone().detach() or sourceTensor.clone().detach().requires_grad_(True), rather than torch.tensor(sourceTensor).\n",
            "  batch = {k: torch.tensor(v, dtype=torch.int64) for k, v in batch.items()}\n",
            "***** Running Evaluation *****\n",
            "  Num examples = 877\n",
            "  Batch size = 4\n",
            "Saving model checkpoint to ./checkpoint-200\n",
            "Configuration saved in ./checkpoint-200/config.json\n",
            "Model weights saved in ./checkpoint-200/pytorch_model.bin\n",
            "/usr/local/lib/python3.7/dist-packages/transformers/data/data_collator.py:317: UserWarning: To copy construct from a tensor, it is recommended to use sourceTensor.clone().detach() or sourceTensor.clone().detach().requires_grad_(True), rather than torch.tensor(sourceTensor).\n",
            "  sequence_length = torch.tensor(batch[\"input_ids\"]).shape[1]\n",
            "/usr/local/lib/python3.7/dist-packages/transformers/data/data_collator.py:328: UserWarning: To copy construct from a tensor, it is recommended to use sourceTensor.clone().detach() or sourceTensor.clone().detach().requires_grad_(True), rather than torch.tensor(sourceTensor).\n",
            "  batch = {k: torch.tensor(v, dtype=torch.int64) for k, v in batch.items()}\n",
            "***** Running Evaluation *****\n",
            "  Num examples = 877\n",
            "  Batch size = 4\n",
            "Saving model checkpoint to ./checkpoint-250\n",
            "Configuration saved in ./checkpoint-250/config.json\n",
            "Model weights saved in ./checkpoint-250/pytorch_model.bin\n",
            "/usr/local/lib/python3.7/dist-packages/transformers/data/data_collator.py:317: UserWarning: To copy construct from a tensor, it is recommended to use sourceTensor.clone().detach() or sourceTensor.clone().detach().requires_grad_(True), rather than torch.tensor(sourceTensor).\n",
            "  sequence_length = torch.tensor(batch[\"input_ids\"]).shape[1]\n",
            "/usr/local/lib/python3.7/dist-packages/transformers/data/data_collator.py:328: UserWarning: To copy construct from a tensor, it is recommended to use sourceTensor.clone().detach() or sourceTensor.clone().detach().requires_grad_(True), rather than torch.tensor(sourceTensor).\n",
            "  batch = {k: torch.tensor(v, dtype=torch.int64) for k, v in batch.items()}\n"
          ]
        }
      ],
      "source": [
        "trainer.train()"
      ]
    }
  ],
  "metadata": {
    "accelerator": "GPU",
    "colab": {
      "collapsed_sections": [],
      "machine_shape": "hm",
      "name": "finetune_protbert.ipynb",
      "provenance": []
    },
    "kernelspec": {
      "display_name": "Python 3",
      "name": "python3"
    },
    "language_info": {
      "name": "python"
    }
  },
  "nbformat": 4,
  "nbformat_minor": 0
}