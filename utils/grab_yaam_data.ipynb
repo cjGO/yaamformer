{
  "nbformat": 4,
  "nbformat_minor": 0,
  "metadata": {
    "colab": {
      "name": "grab_yaam_data.ipynb",
      "provenance": [],
      "collapsed_sections": []
    },
    "kernelspec": {
      "name": "python3",
      "display_name": "Python 3"
    },
    "language_info": {
      "name": "python"
    }
  },
  "cells": [
    {
      "cell_type": "code",
      "execution_count": 2,
      "metadata": {
        "id": "Dm7Kzu0GmvBX"
      },
      "outputs": [],
      "source": [
        "!pip install selenium\n",
        "!pip install bs4\n",
        "\n",
        "import numpy as np\n",
        "import pandas as pd\n",
        "import os\n",
        "from selenium import webdriver\n",
        "from bs4 import BeautifulSoup as bs\n"
      ]
    },
    {
      "cell_type": "code",
      "source": [
        "with open('yaam_dec15_21.txt') as f:\n",
        "    lines = f.readlines()"
      ],
      "metadata": {
        "id": "4f8BaF-zm7S1"
      },
      "execution_count": 3,
      "outputs": []
    },
    {
      "cell_type": "code",
      "source": [
        "PTM_types = ['Phosphorylation',\n",
        "'Methylation',\n",
        "'Acetylation',\n",
        "'Ubiquitination',\n",
        "'Succinylation',\n",
        "'Oxidation',\n",
        "'Nitration',\n",
        "'NtAcetylation',\n",
        "'Glycosylation',\n",
        "'Disulfide',\n",
        "'Lipidation',\n",
        "'Sumoylation',\n",
        "'Metal']\n",
        "\n",
        "\n",
        "\"\"\"\n",
        "Phosphorylation\n",
        "Acetylation\n",
        "Ubiquitination\n",
        "Succinylation\n",
        "Glycosylation\n",
        "Lipidation\n",
        "\"\"\""
      ],
      "metadata": {
        "colab": {
          "base_uri": "https://localhost:8080/",
          "height": 35
        },
        "id": "-gHdoOacm_PG",
        "outputId": "d717e29f-03f6-4f98-d510-8a7f897525f7"
      },
      "execution_count": 4,
      "outputs": [
        {
          "output_type": "execute_result",
          "data": {
            "application/vnd.google.colaboratory.intrinsic+json": {
              "type": "string"
            },
            "text/plain": [
              "'\\nPhosphorylation\\nAcetylation\\nUbiquitination\\nSuccinylation\\nGlycosylation\\nLipidation\\n'"
            ]
          },
          "metadata": {},
          "execution_count": 4
        }
      ]
    },
    {
      "cell_type": "code",
      "source": [
        "ptm_dict = {}\n",
        "\n",
        "for i in PTM_types:\n",
        "  ptm_dict[i] = []\n",
        "\n",
        "\n",
        "minilines = lines\n",
        "\n",
        "current_type = None\n",
        "for line in minilines:\n",
        "  for ptm in PTM_types:\n",
        "    if ptm in line:\n",
        "      current_type = ptm \n",
        "  if current_type:\n",
        "    ptm_dict[current_type].append(line)\n",
        "\n",
        "\n",
        "\n",
        "\n",
        "for KEY in ptm_dict.keys():\n",
        "  print(f'Modification: {KEY}')\n",
        "  print(f'Total Hits: {len(ptm_dict[KEY])}')\n",
        "  print()\n",
        "\n",
        "\n",
        "ORF_ids = []\n",
        "for KEY in ptm_dict.keys():\n",
        "  cutlist = ptm_dict[KEY][1].split('\\t')\n",
        "  #print(cutlist)\n",
        "  for hit in ptm_dict[KEY][2:]:\n",
        "    #print(hit)\n",
        "    try:\n",
        "      ORF_ids.append(hit.split('\\t')[1])\n",
        "    except:\n",
        "      pass\n",
        "\n",
        "yeast_ORFS = set(ORF_ids)\n",
        "print('-----------------')\n",
        "print(f\"Approximately {round(len(yeast_ORFS)/6000,2)*100}% of yeast proteins contain PTM's\")"
      ],
      "metadata": {
        "colab": {
          "base_uri": "https://localhost:8080/"
        },
        "id": "Ez1Qrmqr2vwe",
        "outputId": "6c55bb07-7da4-493d-bf52-6038538a584c"
      },
      "execution_count": 14,
      "outputs": [
        {
          "output_type": "stream",
          "name": "stdout",
          "text": [
            "Modification: Phosphorylation\n",
            "Total Hits: 87739\n",
            "\n",
            "Modification: Methylation\n",
            "Total Hits: 287\n",
            "\n",
            "Modification: Acetylation\n",
            "Total Hits: 10052\n",
            "\n",
            "Modification: Ubiquitination\n",
            "Total Hits: 14883\n",
            "\n",
            "Modification: Succinylation\n",
            "Total Hits: 1754\n",
            "\n",
            "Modification: Oxidation\n",
            "Total Hits: 875\n",
            "\n",
            "Modification: Nitration\n",
            "Total Hits: 16\n",
            "\n",
            "Modification: NtAcetylation\n",
            "Total Hits: 762\n",
            "\n",
            "Modification: Glycosylation\n",
            "Total Hits: 2000\n",
            "\n",
            "Modification: Disulfide\n",
            "Total Hits: 264\n",
            "\n",
            "Modification: Lipidation\n",
            "Total Hits: 1300\n",
            "\n",
            "Modification: Sumoylation\n",
            "Total Hits: 138\n",
            "\n",
            "Modification: Metal\n",
            "Total Hits: 1950\n",
            "\n",
            "-----------------\n",
            "Approximately 82.0% of yeast proteins contain PTM's\n"
          ]
        }
      ]
    },
    {
      "cell_type": "code",
      "source": [
        "\n",
        "# install chromium, its driver, and selenium\n",
        "!apt-get update\n",
        "!apt install chromium-chromedriver\n",
        "!cp /usr/lib/chromium-browser/chromedriver /usr/bin\n",
        "!pip install selenium\n",
        "# set options to be headless, ..\n",
        "from selenium import webdriver\n",
        "options = webdriver.ChromeOptions()\n",
        "options.add_argument('--headless')\n",
        "options.add_argument('--no-sandbox')\n",
        "options.add_argument('--disable-dev-shm-usage')\n",
        "# open it, go to a website, and get results\n",
        "wd = webdriver.Chrome('chromedriver',options=options)"
      ],
      "metadata": {
        "colab": {
          "base_uri": "https://localhost:8080/"
        },
        "id": "3Go98qYODZui",
        "outputId": "a79e9d97-882b-4449-f39a-1f9ac8a2b494"
      },
      "execution_count": 17,
      "outputs": [
        {
          "output_type": "stream",
          "name": "stdout",
          "text": [
            "Hit:1 https://cloud.r-project.org/bin/linux/ubuntu bionic-cran40/ InRelease\n",
            "Ign:2 https://developer.download.nvidia.com/compute/cuda/repos/ubuntu1804/x86_64  InRelease\n",
            "Hit:3 http://security.ubuntu.com/ubuntu bionic-security InRelease\n",
            "Ign:4 https://developer.download.nvidia.com/compute/machine-learning/repos/ubuntu1804/x86_64  InRelease\n",
            "Hit:5 https://developer.download.nvidia.com/compute/cuda/repos/ubuntu1804/x86_64  Release\n",
            "Hit:6 https://developer.download.nvidia.com/compute/machine-learning/repos/ubuntu1804/x86_64  Release\n",
            "Hit:7 http://ppa.launchpad.net/c2d4u.team/c2d4u4.0+/ubuntu bionic InRelease\n",
            "Hit:8 http://archive.ubuntu.com/ubuntu bionic InRelease\n",
            "Hit:9 http://archive.ubuntu.com/ubuntu bionic-updates InRelease\n",
            "Hit:11 http://ppa.launchpad.net/cran/libgit2/ubuntu bionic InRelease\n",
            "Hit:12 http://archive.ubuntu.com/ubuntu bionic-backports InRelease\n",
            "Hit:14 http://ppa.launchpad.net/deadsnakes/ppa/ubuntu bionic InRelease\n",
            "Hit:15 http://ppa.launchpad.net/graphics-drivers/ppa/ubuntu bionic InRelease\n",
            "Reading package lists... Done\n",
            "Reading package lists... Done\n",
            "Building dependency tree       \n",
            "Reading state information... Done\n",
            "chromium-chromedriver is already the newest version (95.0.4638.69-0ubuntu0.18.04.1).\n",
            "0 upgraded, 0 newly installed, 0 to remove and 85 not upgraded.\n",
            "cp: '/usr/lib/chromium-browser/chromedriver' and '/usr/bin/chromedriver' are the same file\n",
            "Requirement already satisfied: selenium in /usr/local/lib/python3.7/dist-packages (4.1.0)\n",
            "Requirement already satisfied: trio~=0.17 in /usr/local/lib/python3.7/dist-packages (from selenium) (0.19.0)\n",
            "Requirement already satisfied: trio-websocket~=0.9 in /usr/local/lib/python3.7/dist-packages (from selenium) (0.9.2)\n",
            "Requirement already satisfied: urllib3[secure]~=1.26 in /usr/local/lib/python3.7/dist-packages (from selenium) (1.26.7)\n",
            "Requirement already satisfied: outcome in /usr/local/lib/python3.7/dist-packages (from trio~=0.17->selenium) (1.1.0)\n",
            "Requirement already satisfied: async-generator>=1.9 in /usr/local/lib/python3.7/dist-packages (from trio~=0.17->selenium) (1.10)\n",
            "Requirement already satisfied: idna in /usr/local/lib/python3.7/dist-packages (from trio~=0.17->selenium) (2.10)\n",
            "Requirement already satisfied: sniffio in /usr/local/lib/python3.7/dist-packages (from trio~=0.17->selenium) (1.2.0)\n",
            "Requirement already satisfied: attrs>=19.2.0 in /usr/local/lib/python3.7/dist-packages (from trio~=0.17->selenium) (21.2.0)\n",
            "Requirement already satisfied: sortedcontainers in /usr/local/lib/python3.7/dist-packages (from trio~=0.17->selenium) (2.4.0)\n",
            "Requirement already satisfied: wsproto>=0.14 in /usr/local/lib/python3.7/dist-packages (from trio-websocket~=0.9->selenium) (1.0.0)\n",
            "Requirement already satisfied: pyOpenSSL>=0.14 in /usr/local/lib/python3.7/dist-packages (from urllib3[secure]~=1.26->selenium) (21.0.0)\n",
            "Requirement already satisfied: certifi in /usr/local/lib/python3.7/dist-packages (from urllib3[secure]~=1.26->selenium) (2021.10.8)\n",
            "Requirement already satisfied: cryptography>=1.3.4 in /usr/local/lib/python3.7/dist-packages (from urllib3[secure]~=1.26->selenium) (36.0.1)\n",
            "Requirement already satisfied: cffi>=1.12 in /usr/local/lib/python3.7/dist-packages (from cryptography>=1.3.4->urllib3[secure]~=1.26->selenium) (1.15.0)\n",
            "Requirement already satisfied: pycparser in /usr/local/lib/python3.7/dist-packages (from cffi>=1.12->cryptography>=1.3.4->urllib3[secure]~=1.26->selenium) (2.21)\n",
            "Requirement already satisfied: six>=1.5.2 in /usr/local/lib/python3.7/dist-packages (from pyOpenSSL>=0.14->urllib3[secure]~=1.26->selenium) (1.15.0)\n",
            "Requirement already satisfied: h11<1,>=0.9.0 in /usr/local/lib/python3.7/dist-packages (from wsproto>=0.14->trio-websocket~=0.9->selenium) (0.12.0)\n"
          ]
        }
      ]
    },
    {
      "cell_type": "code",
      "source": [
        "from tqdm import tqdm\n",
        "\n",
        "\n",
        "residue = []\n",
        "modify = []\n",
        "seqs = []\n",
        "\n",
        "\n",
        "for ORF in tqdm(yeast_ORFS):\n",
        "  # open it, go to a website, and get results\n",
        "  wd = webdriver.Chrome('chromedriver',options=options)\n",
        "  LINK=f'http://yaam.ifc.unam.mx/detalle_final.php?orf={ORF}'\n",
        "  wd.get(LINK)\n",
        "  #|print(wd.page_source)  # results\n",
        "\n",
        "\n",
        "  for i in wd.page_source.split('\\n'):\n",
        "    if 'var posit' in i:\n",
        "      positions = i\n",
        "      positions = positions.split('[')[1].split(']')[0]\n",
        "\n",
        "\n",
        "    if 'var modi' in i:\n",
        "      types = i\n",
        "      types = types.split('[')[1].split(']')[0]\n",
        "    if 'id=\"secuencia' in i:\n",
        "      \n",
        "      #soup = BeautifulSoup('<td id=\"secuencia\" align=\"left\"><tr></tr><tr></tr><tr><td>MSSAAE<span style=\"font-weight: bold; color:#775533\">K</span><span style=\"font-weight: bold; color:#FBBA00\">K</span>PA</td><td>S<span style=\"font-weight: bold; color:#FBBA00\">K</span>APAE<span style=\"font-weight: bold; color:#775533\">K</span><span style=\"font-weight: bold; color:#FBBA00\">K</span>PA</td><td>A<span style=\"font-weight: bold; color:#775533\">K</span><span style=\"font-weight: bold; color:#FBBA00\">K</span>TST<span style=\"font-weight: bold; color:#D00A10\">S</span>VDG</td><td>KKRSKVR<span style=\"font-weight: bold; color:#FBBA00\">K</span>E<span style=\"font-weight: bold; color:#D00A10\">T</span></td><td><span style=\"font-weight: bold; color:#D00A10\">Y</span><span style=\"font-weight: bold; color:#D00A10\">S</span><span style=\"font-weight: bold; color:#D00A10\">S</span><span style=\"font-weight: bold; color:#D00A10\">Y</span>IY<span style=\"font-weight: bold; color:#775533\">K</span>VL<span style=\"font-weight: bold; color:#775533\">K</span></td><td>QTHPDTGISQ</td></tr><tr><td><span style=\"font-weight: bold; color:#9900EE\">K</span><span style=\"font-weight: bold; color:#D00A10\">S</span>MSILNSFV</td><td>NDIFERIATE</td><td>AS<span style=\"font-weight: bold; color:#775533\">K</span>LAAYN<span style=\"font-weight: bold; color:#775533\">K</span>K</td><td>STISAREIQT</td><td>AVRLILPGEL</td><td>A<span style=\"font-weight: bold; color:#775533\">K</span>HAVSEGTR</td></tr><tr><td>AV<span style=\"font-weight: bold; color:#D00A10\">T</span><span style=\"font-weight: bold; color:#775533\">K</span>YS<span style=\"font-weight: bold; color:#D00A10\">S</span><span style=\"font-weight: bold; color:#D00A10\">S</span><span style=\"font-weight: bold; color:#D00A10\">T</span>Q</td><td>A</td><td></td><td></td><td></td><td></td></tr></td>')\n",
        "      soup = BeautifulSoup(i)\n",
        "      seq = soup.get_text()\n",
        "\n",
        "  residue.append(positions)\n",
        "  modify.append(types)\n",
        "  seqs.append(seq)"
      ],
      "metadata": {
        "id": "w53kwP8FYtn2"
      },
      "execution_count": null,
      "outputs": []
    }
  ]
}