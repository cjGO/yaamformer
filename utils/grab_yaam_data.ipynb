{
 "cells": [
  {
   "cell_type": "markdown",
   "metadata": {},
   "source": [
    "### This notebook scrapes the YAAM database (which does not have an API). It takes some time so it is done in parallel. The results are stored in a pickled file. The next notebook preprocesses the raw queries from the database."
   ]
  },
  {
   "cell_type": "code",
   "execution_count": null,
   "metadata": {
    "id": "Dm7Kzu0GmvBX"
   },
   "outputs": [],
   "source": [
    "!pip install selenium\n",
    "!pip install bs4\n",
    "\n",
    "import numpy as np\n",
    "import pandas as pd\n",
    "import os\n",
    "from selenium import webdriver\n",
    "from bs4 import BeautifulSoup as bs\n"
   ]
  },
  {
   "cell_type": "markdown",
   "metadata": {},
   "source": [
    "### Read in the textfile containg a snapshot of the database"
   ]
  },
  {
   "cell_type": "code",
   "execution_count": null,
   "metadata": {},
   "outputs": [],
   "source": [
    "with open('yaam_dec15_21.txt') as f:\n",
    "    lines = f.readlines()\n",
    "\n",
    "PTM_types = ['Phosphorylation',\n",
    "'Methylation',\n",
    "'Acetylation',\n",
    "'Ubiquitination',\n",
    "'Succinylation',\n",
    "'Oxidation',\n",
    "'Nitration',\n",
    "'NtAcetylation',\n",
    "'Glycosylation',\n",
    "'Disulfide',\n",
    "'Lipidation',\n",
    "'Sumoylation',\n",
    "'Metal']\n",
    "\n",
    "\n",
    "\"\"\"\n",
    "Phosphorylation\n",
    "Acetylation\n",
    "Ubiquitination\n",
    "Succinylation\n",
    "Glycosylation\n",
    "Lipidation\n",
    "\"\"\"\n",
    "\n",
    "\n",
    "ptm_dict = {}\n",
    "\n",
    "for i in PTM_types:\n",
    "  ptm_dict[i] = []\n",
    "\n",
    "\n",
    "minilines = lines\n",
    "\n",
    "current_type = None\n",
    "for line in minilines:\n",
    "  for ptm in PTM_types:\n",
    "    if ptm in line:\n",
    "      current_type = ptm \n",
    "  if current_type:\n",
    "    ptm_dict[current_type].append(line)\n",
    "\n",
    "\n",
    "\n",
    "\n",
    "for KEY in ptm_dict.keys():\n",
    "  print(f'Modification: {KEY}')\n",
    "  print(f'Total Hits: {len(ptm_dict[KEY])}')\n",
    "  print()\n",
    "\n",
    "\n",
    "ORF_ids = []\n",
    "for KEY in ptm_dict.keys():\n",
    "  cutlist = ptm_dict[KEY][1].split('\\t')\n",
    "  #print(cutlist)\n",
    "  for hit in ptm_dict[KEY][2:]:\n",
    "    #print(hit)\n",
    "    try:\n",
    "      ORF_ids.append(hit.split('\\t')[1])\n",
    "    except:\n",
    "      pass\n",
    "\n",
    "yeast_ORFS = set(ORF_ids)\n",
    "print('-----------------')\n",
    "print(f\"Approximately {round(len(yeast_ORFS)/6000,2)*100}% of yeast proteins contain PTM's\")\n"
   ]
  },
  {
   "cell_type": "markdown",
   "metadata": {},
   "source": [
    "### Loop over each ORF id to collect the data. Use multithreading to speed up queries."
   ]
  },
  {
   "cell_type": "code",
   "execution_count": null,
   "metadata": {},
   "outputs": [],
   "source": [
    "\n",
    "def do_loop(ORF):\n",
    "    \n",
    "    \n",
    "    LINK=f'http://yaam.ifc.unam.mx/Proteinas/search.php?busqueda1={ORF}'\n",
    "    re = requests.get(LINK)\n",
    "    while re.status_code != 200:\n",
    "        re = requests.get(LINK)\n",
    "    soup = BeautifulSoup(re.text,'html.parser')\n",
    "    \n",
    "    LINK2=f'http://yaam.ifc.unam.mx/Proteinas/search.php?busqueda2={ORF}'\n",
    "    re2 = requests.get(LINK2)\n",
    "    while re2.status_code != 200:\n",
    "      re2 = requests.get(LINK2)\n",
    "    soup2 = BeautifulSoup(re2.text,'html.parser')\n",
    "    \n",
    "    data_in = {'orf':ORF,\n",
    "               'seq':soup,\n",
    "               'mod':soup2\n",
    "              }\n",
    "    \n",
    "    return data_in\n",
    "!pip install selenium\n",
    "!pip install bs4\n",
    "\n",
    "import numpy as np\n",
    "import pandas as pd\n",
    "import os\n",
    "from selenium import webdriver\n",
    "from bs4 import BeautifulSoup as bs\n",
    "\n",
    "# install chromium, its driver, and selenium\n",
    "!apt-get update\n",
    "!apt install chromium-chromedriver\n",
    "!cp /usr/lib/chromium-browser/chromedriver /usr/bin\n",
    "!pip install selenium\n",
    "# set options to be headless, ..\n",
    "from selenium import webdriver\n",
    "options = webdriver.ChromeOptions()\n",
    "options.add_argument('--headless')\n",
    "options.add_argument('--no-sandbox')\n",
    "options.add_argument('--disable-dev-shm-usage')\n",
    "# open it, go to a website, and get results\n",
    "wd = webdriver.Chrome('chromedriver',options=options)\n",
    "\n",
    "\n",
    "%time\n",
    "from multiprocessing.pool import ThreadPool\n",
    "from bs4 import BeautifulSoup\n",
    "import requests\n",
    "biglist = []\n",
    "missing = 0\n",
    "with ThreadPool(8) as pool:\n",
    "    for result in pool.map(do_loop, list(yeast_ORFS)):\n",
    "        #print(\"HERE\")\n",
    "        biglist.append(result)"
   ]
  },
  {
   "cell_type": "markdown",
   "metadata": {},
   "source": [
    "### Store results"
   ]
  },
  {
   "cell_type": "code",
   "execution_count": null,
   "metadata": {},
   "outputs": [],
   "source": [
    "\n",
    "with open('orf.data', 'wb') as filehandle:\n",
    "    # store the data as binary data stream\n",
    "    pickle.dump(biglist, filehandle)"
   ]
  }
 ],
 "metadata": {
  "colab": {
   "collapsed_sections": [],
   "name": "grab_yaam_data.ipynb",
   "provenance": []
  },
  "kernelspec": {
   "display_name": "Python 3",
   "language": "python",
   "name": "python3"
  },
  "language_info": {
   "codemirror_mode": {
    "name": "ipython",
    "version": 3
   },
   "file_extension": ".py",
   "mimetype": "text/x-python",
   "name": "python",
   "nbconvert_exporter": "python",
   "pygments_lexer": "ipython3",
   "version": "3.8.5"
  }
 },
 "nbformat": 4,
 "nbformat_minor": 4
}
