{
 "cells": [
  {
   "cell_type": "code",
   "execution_count": 1,
   "id": "thermal-hospital",
   "metadata": {},
   "outputs": [],
   "source": [
    "import numpy as np\n",
    "import pandas as pd\n",
    "import json\n",
    "import pickle"
   ]
  },
  {
   "cell_type": "markdown",
   "id": "otherwise-python",
   "metadata": {},
   "source": [
    "### Read in the scraped database file"
   ]
  },
  {
   "cell_type": "code",
   "execution_count": 2,
   "id": "liable-norwegian",
   "metadata": {},
   "outputs": [],
   "source": [
    "\n",
    "with open('./orf.data', 'rb') as filehandle:\n",
    "    # read the data as binary data stream\n",
    "    yaamScrape = pickle.load(filehandle)"
   ]
  },
  {
   "cell_type": "markdown",
   "id": "casual-given",
   "metadata": {},
   "source": [
    "### Collect the sequence and PTMs for each ORF"
   ]
  },
  {
   "cell_type": "code",
   "execution_count": 3,
   "id": "respective-filename",
   "metadata": {},
   "outputs": [],
   "source": [
    "annotations = []\n",
    "seqs = []\n",
    "orfs = []\n",
    "\n",
    "b=yaamScrape\n",
    "\n",
    "\n",
    "#PTM types\n",
    "ptm_dict = {'Ca': 1,\n",
    " 'Methylation': 2,\n",
    " 'NtAcetylation': 3,\n",
    " 'Ubiquitination': 4,\n",
    " 'Disulfide': 5,\n",
    " 'Phosphorylation': 6,\n",
    " 'Succinylation': 7,\n",
    " 'Biotinylation': 8,\n",
    " 'Oxidation': 9,\n",
    " 'Nitration': 10,\n",
    " 'Metal': 11,\n",
    " 'Lipidation': 12,\n",
    " 'ActiveSite': 13,\n",
    " 'Glycosylation': 14,\n",
    " 'Acetylation': 15,\n",
    " 'Sumoylation': 16}\n",
    "\n",
    "for ORF in range(4898):\n",
    "    \n",
    "    try:\n",
    "        ORF = b[ORF]\n",
    "\n",
    "        orf_seq = json.loads(str(ORF['seq']))['data'][0]['sequence']\n",
    "        seq_length = len(orf_seq)\n",
    "\n",
    "        #set up tracking dictionary\n",
    "        ptm_dict_store ={}\n",
    "        for ptm_id in ptm_dict.values():\n",
    "            ptm_dict_store[ptm_id] = []\n",
    "\n",
    "        #go through the PTMs in the ORF\n",
    "        for i in json.loads(str(ORF['mod']))['data']:\n",
    "            #print(i)\n",
    "            #collect the position/type for each present PTM in the ORF\n",
    "\n",
    "            #single modification present -> simple\n",
    "            if i['modification'].count(',') == 0:\n",
    "                PTM_TOKEN = ptm_dict[i['modification']]\n",
    "                ptm_dict_store[PTM_TOKEN].append(i['position'])\n",
    "            #multiple modifications -> add steps\n",
    "            else:\n",
    "                mods = i['modification'].split(',')\n",
    "                for x in mods:\n",
    "                    x = x.rstrip().lstrip() #bad white space present\n",
    "                    #print(x)\n",
    "                    PTM_TOKEN = ptm_dict[x]\n",
    "                    ptm_dict_store[PTM_TOKEN].append(i['position'])\n",
    "\n",
    "        #go through each of the PTM types and make the vector containing classification information (1/0 for present/not-present)\n",
    "        count = 1\n",
    "        token_matrix = []\n",
    "        for i in ptm_dict_store.keys():\n",
    "            ptm_vector = np.zeros(seq_length)\n",
    "            ptm_locations = ptm_dict_store[i]\n",
    "\n",
    "            for ptm in ptm_locations:\n",
    "                ptm_vector[ptm] = 1\n",
    "\n",
    "            token_matrix.append(ptm_vector)\n",
    "\n",
    "        token_matrix = np.vstack(token_matrix)\n",
    "        annotations.append(token_matrix)\n",
    "        seqs.append(orf_seq)\n",
    "        orfs.append(ORF['orf'])\n",
    "    except:\n",
    "        pass"
   ]
  },
  {
   "cell_type": "code",
   "execution_count": 4,
   "id": "western-proportion",
   "metadata": {},
   "outputs": [
    {
     "name": "stdout",
     "output_type": "stream",
     "text": [
      "4820\n",
      "4820\n",
      "4820\n"
     ]
    }
   ],
   "source": [
    "print(len(orfs))\n",
    "print(len(seqs))\n",
    "print(len(annotations))"
   ]
  },
  {
   "cell_type": "markdown",
   "id": "criminal-gibraltar",
   "metadata": {},
   "source": [
    "### Post-process data (tokenizaton) and put in a dataframe"
   ]
  },
  {
   "cell_type": "code",
   "execution_count": 5,
   "id": "heavy-constant",
   "metadata": {},
   "outputs": [],
   "source": [
    "prep_data = {'orf':orfs,\n",
    "            'seqs':seqs,\n",
    "            'annotations':annotations}"
   ]
  },
  {
   "cell_type": "code",
   "execution_count": 6,
   "id": "binary-diabetes",
   "metadata": {},
   "outputs": [],
   "source": [
    "import pandas as pd\n",
    "YAAM = pd.DataFrame(prep_data)"
   ]
  },
  {
   "cell_type": "code",
   "execution_count": 7,
   "id": "dying-honor",
   "metadata": {},
   "outputs": [
    {
     "data": {
      "text/plain": [
       "{'M': 1,\n",
       " 'L': 2,\n",
       " 'S': 3,\n",
       " 'R': 4,\n",
       " 'A': 5,\n",
       " 'T': 6,\n",
       " 'K': 7,\n",
       " 'V': 8,\n",
       " 'N': 9,\n",
       " 'F': 10,\n",
       " 'H': 11,\n",
       " 'Q': 12,\n",
       " 'E': 13,\n",
       " 'G': 14,\n",
       " 'I': 15,\n",
       " 'Y': 16,\n",
       " 'P': 17,\n",
       " 'D': 18,\n",
       " 'C': 19,\n",
       " 'W': 20}"
      ]
     },
     "execution_count": 7,
     "metadata": {},
     "output_type": "execute_result"
    }
   ],
   "source": [
    "#get amino acid set\n",
    "\n",
    "aa_list = []\n",
    "\n",
    "for s in YAAM['seqs']:\n",
    "    if (len(aa_list) < 20):\n",
    "        for aa in s:\n",
    "            if aa in aa_list:\n",
    "                pass\n",
    "            else:\n",
    "                aa_list.append(aa)\n",
    "                \n",
    "aa_dict = {}\n",
    "for aa in range(len(aa_list)):\n",
    "    aa_dict[aa_list[aa]] = aa+1\n",
    "aa_dict"
   ]
  },
  {
   "cell_type": "code",
   "execution_count": 8,
   "id": "abstract-interim",
   "metadata": {},
   "outputs": [],
   "source": [
    "tokenized_proteins = []\n",
    "count=0\n",
    "for protein in YAAM['seqs']:\n",
    "    protein = ''.join(ch for ch in protein if ch.isupper())\n",
    "    #print(protein)\n",
    "    #print()\n",
    "    tokenized_proteins.append([aa_dict[i] for i in protein])\n",
    "YAAM['token_proteins'] = tokenized_proteins"
   ]
  },
  {
   "cell_type": "code",
   "execution_count": 9,
   "id": "secret-illness",
   "metadata": {},
   "outputs": [
    {
     "data": {
      "text/html": [
       "<div>\n",
       "<style scoped>\n",
       "    .dataframe tbody tr th:only-of-type {\n",
       "        vertical-align: middle;\n",
       "    }\n",
       "\n",
       "    .dataframe tbody tr th {\n",
       "        vertical-align: top;\n",
       "    }\n",
       "\n",
       "    .dataframe thead th {\n",
       "        text-align: right;\n",
       "    }\n",
       "</style>\n",
       "<table border=\"1\" class=\"dataframe\">\n",
       "  <thead>\n",
       "    <tr style=\"text-align: right;\">\n",
       "      <th></th>\n",
       "      <th>orf</th>\n",
       "      <th>seqs</th>\n",
       "      <th>annotations</th>\n",
       "      <th>token_proteins</th>\n",
       "    </tr>\n",
       "  </thead>\n",
       "  <tbody>\n",
       "    <tr>\n",
       "      <th>0</th>\n",
       "      <td>YDR148C</td>\n",
       "      <td>MLSRATRTAAAKSLVKSKVARNVMAASFVKRHASTSLFKQANKVES...</td>\n",
       "      <td>[[0.0, 0.0, 0.0, 0.0, 0.0, 0.0, 0.0, 0.0, 0.0,...</td>\n",
       "      <td>[1, 2, 3, 4, 5, 6, 4, 6, 5, 5, 5, 7, 3, 2, 8, ...</td>\n",
       "    </tr>\n",
       "    <tr>\n",
       "      <th>1</th>\n",
       "      <td>YIL037C</td>\n",
       "      <td>MNNVHIIKPLSLPQRFFSCIFHPLLLIFFTSVILTIWGSFSVIDIT...</td>\n",
       "      <td>[[0.0, 0.0, 0.0, 0.0, 0.0, 0.0, 0.0, 0.0, 0.0,...</td>\n",
       "      <td>[1, 9, 9, 8, 11, 15, 15, 7, 17, 2, 3, 2, 17, 1...</td>\n",
       "    </tr>\n",
       "    <tr>\n",
       "      <th>2</th>\n",
       "      <td>YPL195W</td>\n",
       "      <td>MTSLYAPGAEDIRQRLRPFGFFFEKSLKDLIKGIRSHNETPEKLDQ...</td>\n",
       "      <td>[[0.0, 0.0, 0.0, 0.0, 0.0, 0.0, 0.0, 0.0, 0.0,...</td>\n",
       "      <td>[1, 6, 3, 2, 16, 5, 17, 14, 5, 13, 18, 15, 4, ...</td>\n",
       "    </tr>\n",
       "    <tr>\n",
       "      <th>3</th>\n",
       "      <td>YDL194W</td>\n",
       "      <td>MDPNSNSSSETLRQEKQGFLDKALQRVKGIALRRNNSNKDHTTDDT...</td>\n",
       "      <td>[[0.0, 0.0, 0.0, 0.0, 0.0, 0.0, 0.0, 0.0, 0.0,...</td>\n",
       "      <td>[1, 18, 17, 9, 3, 9, 3, 3, 3, 13, 6, 2, 4, 12,...</td>\n",
       "    </tr>\n",
       "    <tr>\n",
       "      <th>4</th>\n",
       "      <td>YNL331C</td>\n",
       "      <td>MTDLFKPLPEPPTELGRLRVLSKTAGIRVSPLILGGASIGDAWSGF...</td>\n",
       "      <td>[[0.0, 0.0, 0.0, 0.0, 0.0, 0.0, 0.0, 0.0, 0.0,...</td>\n",
       "      <td>[1, 6, 18, 2, 10, 7, 17, 2, 17, 13, 17, 17, 6,...</td>\n",
       "    </tr>\n",
       "    <tr>\n",
       "      <th>...</th>\n",
       "      <td>...</td>\n",
       "      <td>...</td>\n",
       "      <td>...</td>\n",
       "      <td>...</td>\n",
       "    </tr>\n",
       "    <tr>\n",
       "      <th>4815</th>\n",
       "      <td>YNL309W</td>\n",
       "      <td>MSQPQMSPEKEQELASKILHRAELAQMTRQLKLGLSNVPSTKRKQD...</td>\n",
       "      <td>[[0.0, 0.0, 0.0, 0.0, 0.0, 0.0, 0.0, 0.0, 0.0,...</td>\n",
       "      <td>[1, 3, 12, 17, 12, 1, 3, 17, 13, 7, 13, 12, 13...</td>\n",
       "    </tr>\n",
       "    <tr>\n",
       "      <th>4816</th>\n",
       "      <td>YLR356W</td>\n",
       "      <td>MSVCLAITKGIAVSSIGLYSGLLASASLITSTTPLEVLTGSLTPTL...</td>\n",
       "      <td>[[0.0, 0.0, 0.0, 0.0, 0.0, 0.0, 0.0, 0.0, 0.0,...</td>\n",
       "      <td>[1, 3, 8, 19, 2, 5, 15, 6, 7, 14, 15, 5, 8, 3,...</td>\n",
       "    </tr>\n",
       "    <tr>\n",
       "      <th>4817</th>\n",
       "      <td>YDL006W</td>\n",
       "      <td>MSNHSEILERPETPYDITYRVGVAENKNSKFRRTMEDVHTYVKNFA...</td>\n",
       "      <td>[[0.0, 0.0, 0.0, 0.0, 0.0, 0.0, 0.0, 0.0, 0.0,...</td>\n",
       "      <td>[1, 3, 9, 11, 3, 13, 15, 2, 13, 4, 17, 13, 6, ...</td>\n",
       "    </tr>\n",
       "    <tr>\n",
       "      <th>4818</th>\n",
       "      <td>YIL109C</td>\n",
       "      <td>MSHHKKRVYPQAQLQYGQNATPLQQPAQFMPPQDPAAAGMSYGQMG...</td>\n",
       "      <td>[[0.0, 0.0, 0.0, 0.0, 0.0, 0.0, 0.0, 0.0, 0.0,...</td>\n",
       "      <td>[1, 3, 11, 11, 7, 7, 4, 8, 16, 17, 12, 5, 12, ...</td>\n",
       "    </tr>\n",
       "    <tr>\n",
       "      <th>4819</th>\n",
       "      <td>YPL277C</td>\n",
       "      <td>MRFHRQGISAIIGVLLIVLLGFCWKLSGSYGIVSTALPHNQSAIKS...</td>\n",
       "      <td>[[0.0, 0.0, 0.0, 0.0, 0.0, 0.0, 0.0, 0.0, 0.0,...</td>\n",
       "      <td>[1, 4, 10, 11, 4, 12, 14, 15, 3, 5, 15, 15, 14...</td>\n",
       "    </tr>\n",
       "  </tbody>\n",
       "</table>\n",
       "<p>4820 rows × 4 columns</p>\n",
       "</div>"
      ],
      "text/plain": [
       "          orf                                               seqs  \\\n",
       "0     YDR148C  MLSRATRTAAAKSLVKSKVARNVMAASFVKRHASTSLFKQANKVES...   \n",
       "1     YIL037C  MNNVHIIKPLSLPQRFFSCIFHPLLLIFFTSVILTIWGSFSVIDIT...   \n",
       "2     YPL195W  MTSLYAPGAEDIRQRLRPFGFFFEKSLKDLIKGIRSHNETPEKLDQ...   \n",
       "3     YDL194W  MDPNSNSSSETLRQEKQGFLDKALQRVKGIALRRNNSNKDHTTDDT...   \n",
       "4     YNL331C  MTDLFKPLPEPPTELGRLRVLSKTAGIRVSPLILGGASIGDAWSGF...   \n",
       "...       ...                                                ...   \n",
       "4815  YNL309W  MSQPQMSPEKEQELASKILHRAELAQMTRQLKLGLSNVPSTKRKQD...   \n",
       "4816  YLR356W  MSVCLAITKGIAVSSIGLYSGLLASASLITSTTPLEVLTGSLTPTL...   \n",
       "4817  YDL006W  MSNHSEILERPETPYDITYRVGVAENKNSKFRRTMEDVHTYVKNFA...   \n",
       "4818  YIL109C  MSHHKKRVYPQAQLQYGQNATPLQQPAQFMPPQDPAAAGMSYGQMG...   \n",
       "4819  YPL277C  MRFHRQGISAIIGVLLIVLLGFCWKLSGSYGIVSTALPHNQSAIKS...   \n",
       "\n",
       "                                            annotations  \\\n",
       "0     [[0.0, 0.0, 0.0, 0.0, 0.0, 0.0, 0.0, 0.0, 0.0,...   \n",
       "1     [[0.0, 0.0, 0.0, 0.0, 0.0, 0.0, 0.0, 0.0, 0.0,...   \n",
       "2     [[0.0, 0.0, 0.0, 0.0, 0.0, 0.0, 0.0, 0.0, 0.0,...   \n",
       "3     [[0.0, 0.0, 0.0, 0.0, 0.0, 0.0, 0.0, 0.0, 0.0,...   \n",
       "4     [[0.0, 0.0, 0.0, 0.0, 0.0, 0.0, 0.0, 0.0, 0.0,...   \n",
       "...                                                 ...   \n",
       "4815  [[0.0, 0.0, 0.0, 0.0, 0.0, 0.0, 0.0, 0.0, 0.0,...   \n",
       "4816  [[0.0, 0.0, 0.0, 0.0, 0.0, 0.0, 0.0, 0.0, 0.0,...   \n",
       "4817  [[0.0, 0.0, 0.0, 0.0, 0.0, 0.0, 0.0, 0.0, 0.0,...   \n",
       "4818  [[0.0, 0.0, 0.0, 0.0, 0.0, 0.0, 0.0, 0.0, 0.0,...   \n",
       "4819  [[0.0, 0.0, 0.0, 0.0, 0.0, 0.0, 0.0, 0.0, 0.0,...   \n",
       "\n",
       "                                         token_proteins  \n",
       "0     [1, 2, 3, 4, 5, 6, 4, 6, 5, 5, 5, 7, 3, 2, 8, ...  \n",
       "1     [1, 9, 9, 8, 11, 15, 15, 7, 17, 2, 3, 2, 17, 1...  \n",
       "2     [1, 6, 3, 2, 16, 5, 17, 14, 5, 13, 18, 15, 4, ...  \n",
       "3     [1, 18, 17, 9, 3, 9, 3, 3, 3, 13, 6, 2, 4, 12,...  \n",
       "4     [1, 6, 18, 2, 10, 7, 17, 2, 17, 13, 17, 17, 6,...  \n",
       "...                                                 ...  \n",
       "4815  [1, 3, 12, 17, 12, 1, 3, 17, 13, 7, 13, 12, 13...  \n",
       "4816  [1, 3, 8, 19, 2, 5, 15, 6, 7, 14, 15, 5, 8, 3,...  \n",
       "4817  [1, 3, 9, 11, 3, 13, 15, 2, 13, 4, 17, 13, 6, ...  \n",
       "4818  [1, 3, 11, 11, 7, 7, 4, 8, 16, 17, 12, 5, 12, ...  \n",
       "4819  [1, 4, 10, 11, 4, 12, 14, 15, 3, 5, 15, 15, 14...  \n",
       "\n",
       "[4820 rows x 4 columns]"
      ]
     },
     "execution_count": 9,
     "metadata": {},
     "output_type": "execute_result"
    }
   ],
   "source": [
    "YAAM"
   ]
  },
  {
   "cell_type": "markdown",
   "id": "joint-brooklyn",
   "metadata": {},
   "source": [
    "### Count the total number of observed PTMs per type"
   ]
  },
  {
   "cell_type": "code",
   "execution_count": 10,
   "id": "silver-august",
   "metadata": {},
   "outputs": [
    {
     "data": {
      "text/plain": [
       "{'Ca': 23.0,\n",
       " 'Methylation': 229.0,\n",
       " 'NtAcetylation': 746.0,\n",
       " 'Ubiquitination': 8535.0,\n",
       " 'Disulfide': 257.0,\n",
       " 'Phosphorylation': 33967.0,\n",
       " 'Succinylation': 1701.0,\n",
       " 'Biotinylation': 1.0,\n",
       " 'Oxidation': 830.0,\n",
       " 'Nitration': 14.0,\n",
       " 'Metal': 1782.0,\n",
       " 'Lipidation': 141.0,\n",
       " 'ActiveSite': 1085.0,\n",
       " 'Glycosylation': 1959.0,\n",
       " 'Acetylation': 6773.0,\n",
       " 'Sumoylation': 86.0}"
      ]
     },
     "execution_count": 10,
     "metadata": {},
     "output_type": "execute_result"
    }
   ],
   "source": [
    "ptm_counter = {}\n",
    "\n",
    "for i in range(len(ptm_dict.keys())):\n",
    "    ptm_counter[i] = 0\n",
    "\n",
    "for ptms in YAAM['annotations']:\n",
    "    for c,i in enumerate(ptms):\n",
    "        ptm_counter[c] += sum(i)\n",
    "        \n",
    "ptm_counts = {}\n",
    "for c,i in enumerate(ptm_dict.keys()):\n",
    "    ptm_counts[i] = ptm_counter[c]\n",
    "ptm_counts"
   ]
  },
  {
   "cell_type": "markdown",
   "id": "armed-keyboard",
   "metadata": {},
   "source": [
    "### Save the dataframe in CSV file for later use"
   ]
  },
  {
   "cell_type": "code",
   "execution_count": 11,
   "id": "exciting-print",
   "metadata": {},
   "outputs": [],
   "source": [
    "YAAM.to_csv('YAAM_tokens.csv')"
   ]
  }
 ],
 "metadata": {
  "kernelspec": {
   "display_name": "Python 3",
   "language": "python",
   "name": "python3"
  },
  "language_info": {
   "codemirror_mode": {
    "name": "ipython",
    "version": 3
   },
   "file_extension": ".py",
   "mimetype": "text/x-python",
   "name": "python",
   "nbconvert_exporter": "python",
   "pygments_lexer": "ipython3",
   "version": "3.8.5"
  }
 },
 "nbformat": 4,
 "nbformat_minor": 5
}
