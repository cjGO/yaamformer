{
 "cells": [
  {
   "cell_type": "code",
   "execution_count": null,
   "metadata": {
    "id": "Dm7Kzu0GmvBX"
   },
   "outputs": [],
   "source": [
    "!pip install selenium\n",
    "!pip install bs4\n",
    "\n",
    "import numpy as np\n",
    "import pandas as pd\n",
    "import os\n",
    "from selenium import webdriver\n",
    "from bs4 import BeautifulSoup as bs\n"
   ]
  },
  {
   "cell_type": "code",
   "execution_count": null,
   "metadata": {},
   "outputs": [],
   "source": [
    "%cd .."
   ]
  },
  {
   "cell_type": "code",
   "execution_count": null,
   "metadata": {
    "id": "4f8BaF-zm7S1"
   },
   "outputs": [],
   "source": [
    "with open('yaam_dec15_21.txt') as f:\n",
    "    lines = f.readlines()"
   ]
  },
  {
   "cell_type": "code",
   "execution_count": null,
   "metadata": {
    "colab": {
     "base_uri": "https://localhost:8080/",
     "height": 35
    },
    "id": "-gHdoOacm_PG",
    "outputId": "d717e29f-03f6-4f98-d510-8a7f897525f7"
   },
   "outputs": [],
   "source": [
    "PTM_types = ['Phosphorylation',\n",
    "'Methylation',\n",
    "'Acetylation',\n",
    "'Ubiquitination',\n",
    "'Succinylation',\n",
    "'Oxidation',\n",
    "'Nitration',\n",
    "'NtAcetylation',\n",
    "'Glycosylation',\n",
    "'Disulfide',\n",
    "'Lipidation',\n",
    "'Sumoylation',\n",
    "'Metal']\n",
    "\n",
    "\n",
    "\"\"\"\n",
    "Phosphorylation\n",
    "Acetylation\n",
    "Ubiquitination\n",
    "Succinylation\n",
    "Glycosylation\n",
    "Lipidation\n",
    "\"\"\""
   ]
  },
  {
   "cell_type": "code",
   "execution_count": null,
   "metadata": {
    "colab": {
     "base_uri": "https://localhost:8080/"
    },
    "id": "Ez1Qrmqr2vwe",
    "outputId": "6c55bb07-7da4-493d-bf52-6038538a584c"
   },
   "outputs": [],
   "source": [
    "ptm_dict = {}\n",
    "\n",
    "for i in PTM_types:\n",
    "  ptm_dict[i] = []\n",
    "\n",
    "\n",
    "minilines = lines\n",
    "\n",
    "current_type = None\n",
    "for line in minilines:\n",
    "  for ptm in PTM_types:\n",
    "    if ptm in line:\n",
    "      current_type = ptm \n",
    "  if current_type:\n",
    "    ptm_dict[current_type].append(line)\n",
    "\n",
    "\n",
    "\n",
    "\n",
    "for KEY in ptm_dict.keys():\n",
    "  print(f'Modification: {KEY}')\n",
    "  print(f'Total Hits: {len(ptm_dict[KEY])}')\n",
    "  print()\n",
    "\n",
    "\n",
    "ORF_ids = []\n",
    "for KEY in ptm_dict.keys():\n",
    "  cutlist = ptm_dict[KEY][1].split('\\t')\n",
    "  #print(cutlist)\n",
    "  for hit in ptm_dict[KEY][2:]:\n",
    "    #print(hit)\n",
    "    try:\n",
    "      ORF_ids.append(hit.split('\\t')[1])\n",
    "    except:\n",
    "      pass\n",
    "\n",
    "yeast_ORFS = set(ORF_ids)\n",
    "print('-----------------')\n",
    "print(f\"Approximately {round(len(yeast_ORFS)/6000,2)*100}% of yeast proteins contain PTM's\")"
   ]
  },
  {
   "cell_type": "code",
   "execution_count": null,
   "metadata": {
    "colab": {
     "base_uri": "https://localhost:8080/"
    },
    "id": "3Go98qYODZui",
    "outputId": "a79e9d97-882b-4449-f39a-1f9ac8a2b494"
   },
   "outputs": [],
   "source": [
    "\n",
    "# install chromium, its driver, and selenium\n",
    "!apt-get update\n",
    "!apt install chromium-chromedriver\n",
    "!cp /usr/lib/chromium-browser/chromedriver /usr/bin\n",
    "!pip install selenium\n",
    "# set options to be headless, ..\n",
    "from selenium import webdriver\n",
    "options = webdriver.ChromeOptions()\n",
    "options.add_argument('--headless')\n",
    "options.add_argument('--no-sandbox')\n",
    "options.add_argument('--disable-dev-shm-usage')\n",
    "# open it, go to a website, and get results\n",
    "wd = webdriver.Chrome('chromedriver',options=options)"
   ]
  },
  {
   "cell_type": "code",
   "execution_count": null,
   "metadata": {},
   "outputs": [],
   "source": [
    "from selenium import webdriver  \n",
    "from concurrent import futures\n",
    "\n",
    "def selenium_title(url):  \n",
    "  wdriver = webdriver.Chrome() # chrome webdriver\n",
    "  wdriver.get(url)  \n",
    "  title = wdriver.title  \n",
    "  wdriver.quit()\n",
    "  return title\n",
    "\n",
    "links = [\"https://www.amazon.com\", \"https://www.google.com\"]\n",
    "\n",
    "with futures.ThreadPoolExecutor() as executor: # default/optimized number of threads\n",
    "  titles = list(executor.map(selenium_title, links))"
   ]
  },
  {
   "cell_type": "code",
   "execution_count": null,
   "metadata": {},
   "outputs": [],
   "source": [
    "from tqdm import tqdm\n",
    "from bs4 import BeautifulSoup\n",
    "from selenium import webdriver  \n",
    "from concurrent import futures\n",
    "\n",
    "residue = []\n",
    "modify = []\n",
    "seqs = []\n",
    "orfs = []\n",
    "\n",
    "def do_it(orf):\n",
    "    # open it, go to a website, and get results\n",
    "    wd = webdriver.Chrome('chromedriver',options=options)\n",
    "    LINK=f'http://yaam.ifc.unam.mx/detalle_final.php?orf={ORF}'\n",
    "    wd.get(LINK)\n",
    "    wd.quit()\n",
    "    #|print(wd.page_source)  # results\n",
    "\n",
    "    orfs.append(ORF)\n",
    "\n",
    "\n",
    "    for i in wd.page_source.split('\\n'):\n",
    "        if 'var posit' in i:\n",
    "            positions = i\n",
    "            positions = positions.split('[')[1].split(']')[0]\n",
    "\n",
    "\n",
    "        if 'var modi' in i:\n",
    "            types = i\n",
    "            types = types.split('[')[1].split(']')[0]\n",
    "        if 'id=\"secuencia' in i:\n",
    "\n",
    "            #soup = BeautifulSoup('<td id=\"secuencia\" align=\"left\"><tr></tr><tr></tr><tr><td>MSSAAE<span style=\"font-weight: bold; color:#775533\">K</span><span style=\"font-weight: bold; color:#FBBA00\">K</span>PA</td><td>S<span style=\"font-weight: bold; color:#FBBA00\">K</span>APAE<span style=\"font-weight: bold; color:#775533\">K</span><span style=\"font-weight: bold; color:#FBBA00\">K</span>PA</td><td>A<span style=\"font-weight: bold; color:#775533\">K</span><span style=\"font-weight: bold; color:#FBBA00\">K</span>TST<span style=\"font-weight: bold; color:#D00A10\">S</span>VDG</td><td>KKRSKVR<span style=\"font-weight: bold; color:#FBBA00\">K</span>E<span style=\"font-weight: bold; color:#D00A10\">T</span></td><td><span style=\"font-weight: bold; color:#D00A10\">Y</span><span style=\"font-weight: bold; color:#D00A10\">S</span><span style=\"font-weight: bold; color:#D00A10\">S</span><span style=\"font-weight: bold; color:#D00A10\">Y</span>IY<span style=\"font-weight: bold; color:#775533\">K</span>VL<span style=\"font-weight: bold; color:#775533\">K</span></td><td>QTHPDTGISQ</td></tr><tr><td><span style=\"font-weight: bold; color:#9900EE\">K</span><span style=\"font-weight: bold; color:#D00A10\">S</span>MSILNSFV</td><td>NDIFERIATE</td><td>AS<span style=\"font-weight: bold; color:#775533\">K</span>LAAYN<span style=\"font-weight: bold; color:#775533\">K</span>K</td><td>STISAREIQT</td><td>AVRLILPGEL</td><td>A<span style=\"font-weight: bold; color:#775533\">K</span>HAVSEGTR</td></tr><tr><td>AV<span style=\"font-weight: bold; color:#D00A10\">T</span><span style=\"font-weight: bold; color:#775533\">K</span>YS<span style=\"font-weight: bold; color:#D00A10\">S</span><span style=\"font-weight: bold; color:#D00A10\">S</span><span style=\"font-weight: bold; color:#D00A10\">T</span>Q</td><td>A</td><td></td><td></td><td></td><td></td></tr></td>')\n",
    "            soup = BeautifulSoup(i)\n",
    "            seq = soup.get_text()\n",
    "\n",
    "    #residue.append(positions)\n",
    "    #modify.append(types)\n",
    "    #seqs.append(seq)\n",
    "    \n",
    "    return orf,positions,types,seq\n",
    "\n",
    "with futures.ThreadPoolExecutor() as executor: # default/optimized number of threads\n",
    "  orfis,poss,typo,secs = list(executor.map(do_it, list(yeast_ORFS)[:5]))"
   ]
  },
  {
   "cell_type": "code",
   "execution_count": null,
   "metadata": {},
   "outputs": [],
   "source": [
    "poss"
   ]
  },
  {
   "cell_type": "code",
   "execution_count": null,
   "metadata": {},
   "outputs": [],
   "source": []
  },
  {
   "cell_type": "code",
   "execution_count": null,
   "metadata": {
    "id": "w53kwP8FYtn2"
   },
   "outputs": [],
   "source": [
    "\n",
    "\n",
    "\n",
    "residue = []\n",
    "modify = []\n",
    "seqs = []\n",
    "orfs = []\n",
    "\n",
    "\n",
    "for i in range((1500)):\n",
    "    \n",
    "    print(i)\n",
    "    \n",
    "    ORF = list(yeast_ORFS)[i]\n",
    "    \n",
    "    #i+=1\n",
    "    \n",
    "    # open it, go to a website, and get results\n",
    "    wd = webdriver.Chrome('chromedriver',options=options)\n",
    "    LINK=f'http://yaam.ifc.unam.mx/detalle_final.php?orf={ORF}'\n",
    "    wd.get(LINK)\n",
    "    #wd.quit()\n",
    "    #|print(wd.page_source)  # results\n",
    "\n",
    "    orfs.append(ORF)\n",
    "\n",
    "\n",
    "    for i in wd.page_source.split('\\n'):\n",
    "        if 'var posit' in i:\n",
    "          positions = i\n",
    "          positions = positions.split('[')[1].split(']')[0]\n",
    "\n",
    "\n",
    "        if 'var modi' in i:\n",
    "          types = i\n",
    "          types = types.split('[')[1].split(']')[0]\n",
    "        if 'id=\"secuencia' in i:\n",
    "\n",
    "          #soup = BeautifulSoup('<td id=\"secuencia\" align=\"left\"><tr></tr><tr></tr><tr><td>MSSAAE<span style=\"font-weight: bold; color:#775533\">K</span><span style=\"font-weight: bold; color:#FBBA00\">K</span>PA</td><td>S<span style=\"font-weight: bold; color:#FBBA00\">K</span>APAE<span style=\"font-weight: bold; color:#775533\">K</span><span style=\"font-weight: bold; color:#FBBA00\">K</span>PA</td><td>A<span style=\"font-weight: bold; color:#775533\">K</span><span style=\"font-weight: bold; color:#FBBA00\">K</span>TST<span style=\"font-weight: bold; color:#D00A10\">S</span>VDG</td><td>KKRSKVR<span style=\"font-weight: bold; color:#FBBA00\">K</span>E<span style=\"font-weight: bold; color:#D00A10\">T</span></td><td><span style=\"font-weight: bold; color:#D00A10\">Y</span><span style=\"font-weight: bold; color:#D00A10\">S</span><span style=\"font-weight: bold; color:#D00A10\">S</span><span style=\"font-weight: bold; color:#D00A10\">Y</span>IY<span style=\"font-weight: bold; color:#775533\">K</span>VL<span style=\"font-weight: bold; color:#775533\">K</span></td><td>QTHPDTGISQ</td></tr><tr><td><span style=\"font-weight: bold; color:#9900EE\">K</span><span style=\"font-weight: bold; color:#D00A10\">S</span>MSILNSFV</td><td>NDIFERIATE</td><td>AS<span style=\"font-weight: bold; color:#775533\">K</span>LAAYN<span style=\"font-weight: bold; color:#775533\">K</span>K</td><td>STISAREIQT</td><td>AVRLILPGEL</td><td>A<span style=\"font-weight: bold; color:#775533\">K</span>HAVSEGTR</td></tr><tr><td>AV<span style=\"font-weight: bold; color:#D00A10\">T</span><span style=\"font-weight: bold; color:#775533\">K</span>YS<span style=\"font-weight: bold; color:#D00A10\">S</span><span style=\"font-weight: bold; color:#D00A10\">S</span><span style=\"font-weight: bold; color:#D00A10\">T</span>Q</td><td>A</td><td></td><td></td><td></td><td></td></tr></td>')\n",
    "          soup = BeautifulSoup(i)\n",
    "          seq = soup.get_text()\n",
    "\n",
    "    residue.append(positions)\n",
    "    modify.append(types)\n",
    "    seqs.append(seq)\n",
    "    \n",
    "        "
   ]
  },
  {
   "cell_type": "code",
   "execution_count": null,
   "metadata": {},
   "outputs": [],
   "source": [
    "\n",
    "# residue = []\n",
    "# modify = []\n",
    "# seqs = []\n",
    "# orfs = []\n",
    "residue\n"
   ]
  },
  {
   "cell_type": "code",
   "execution_count": null,
   "metadata": {},
   "outputs": [],
   "source": [
    "modify"
   ]
  },
  {
   "cell_type": "code",
   "execution_count": null,
   "metadata": {},
   "outputs": [],
   "source": [
    "seqs"
   ]
  },
  {
   "cell_type": "raw",
   "metadata": {},
   "source": []
  },
  {
   "cell_type": "code",
   "execution_count": null,
   "metadata": {},
   "outputs": [],
   "source": [
    "orfs"
   ]
  },
  {
   "cell_type": "code",
   "execution_count": null,
   "metadata": {},
   "outputs": [],
   "source": [
    "len(residue) == len(orfs)"
   ]
  },
  {
   "cell_type": "code",
   "execution_count": null,
   "metadata": {},
   "outputs": [],
   "source": [
    "len(orfs)  == len(modify)"
   ]
  },
  {
   "cell_type": "code",
   "execution_count": null,
   "metadata": {},
   "outputs": [],
   "source": [
    "len(seqs) == len(orfs)"
   ]
  },
  {
   "cell_type": "code",
   "execution_count": null,
   "metadata": {},
   "outputs": [],
   "source": [
    "data_dict = {'ORF':orfs,\n",
    "            'Residues':residue,\n",
    "            'Mods':modify,\n",
    "             'Seqs':seqs\n",
    "            }"
   ]
  },
  {
   "cell_type": "code",
   "execution_count": null,
   "metadata": {},
   "outputs": [],
   "source": [
    "first969 = pd.DataFrame(data_dict)"
   ]
  },
  {
   "cell_type": "code",
   "execution_count": null,
   "metadata": {},
   "outputs": [],
   "source": [
    "first969.to_csv('first969.csv')"
   ]
  },
  {
   "cell_type": "code",
   "execution_count": null,
   "metadata": {},
   "outputs": [],
   "source": [
    "first969 = pd.read_csv('../first969.csv')"
   ]
  },
  {
   "cell_type": "code",
   "execution_count": 38,
   "metadata": {},
   "outputs": [
    {
     "data": {
      "text/html": [
       "<div>\n",
       "<style scoped>\n",
       "    .dataframe tbody tr th:only-of-type {\n",
       "        vertical-align: middle;\n",
       "    }\n",
       "\n",
       "    .dataframe tbody tr th {\n",
       "        vertical-align: top;\n",
       "    }\n",
       "\n",
       "    .dataframe thead th {\n",
       "        text-align: right;\n",
       "    }\n",
       "</style>\n",
       "<table border=\"1\" class=\"dataframe\">\n",
       "  <thead>\n",
       "    <tr style=\"text-align: right;\">\n",
       "      <th></th>\n",
       "      <th>Unnamed: 0</th>\n",
       "      <th>ORF</th>\n",
       "      <th>Residues</th>\n",
       "      <th>Mods</th>\n",
       "      <th>Seqs</th>\n",
       "    </tr>\n",
       "  </thead>\n",
       "  <tbody>\n",
       "    <tr>\n",
       "      <th>0</th>\n",
       "      <td>0</td>\n",
       "      <td>YHR072W-A</td>\n",
       "      <td>28,36,40</td>\n",
       "      <td>\"Ubiquitination\",\"Phosphorylation\",\"Acetylation\"</td>\n",
       "      <td>MHLMYTLGPDGKRIYTLKKVTESGEITKSAHPARFSPDDKYSRQRV...</td>\n",
       "    </tr>\n",
       "    <tr>\n",
       "      <th>1</th>\n",
       "      <td>1</td>\n",
       "      <td>YJL127C</td>\n",
       "      <td>160,613,619,636</td>\n",
       "      <td>\"Phosphorylation\",\"Phosphorylation\",\"Phosphory...</td>\n",
       "      <td>MLNQHTSSVPDDEHLQMAHQNSSSEVRNEAAVPDQLLTPLQPYTIL...</td>\n",
       "    </tr>\n",
       "    <tr>\n",
       "      <th>2</th>\n",
       "      <td>2</td>\n",
       "      <td>YER032W</td>\n",
       "      <td>66,81,84,102,105,167,169,172,225,245,274,375,3...</td>\n",
       "      <td>\"Phosphorylation\",\"Phosphorylation\",\"Phosphory...</td>\n",
       "      <td>MSLPVTPVKSKVCSTLSIQHEMDHDQCRDVLCPRENLLAINRTNNI...</td>\n",
       "    </tr>\n",
       "    <tr>\n",
       "      <th>3</th>\n",
       "      <td>3</td>\n",
       "      <td>YOR261C</td>\n",
       "      <td>7,43,44,45,105,112,144,195,198,205,213,217,263...</td>\n",
       "      <td>\"Ubiquitination\",\"Phosphorylation\",\"Phosphoryl...</td>\n",
       "      <td>MSLQHEKVTIAPLVLLSALDHYERTQTKENKRCVGVILGDANSSTI...</td>\n",
       "    </tr>\n",
       "    <tr>\n",
       "      <th>4</th>\n",
       "      <td>4</td>\n",
       "      <td>YKR087C</td>\n",
       "      <td>137,138,203,204,207,257</td>\n",
       "      <td>\"Oxidation\",\"Acetylation\",\"Metal\",\"ActiveSite\"...</td>\n",
       "      <td>MLRNIIRFKGFGKGTSGGFLKPVSFRVQLTRCYRYDNGPSYRRFNN...</td>\n",
       "    </tr>\n",
       "    <tr>\n",
       "      <th>...</th>\n",
       "      <td>...</td>\n",
       "      <td>...</td>\n",
       "      <td>...</td>\n",
       "      <td>...</td>\n",
       "      <td>...</td>\n",
       "    </tr>\n",
       "    <tr>\n",
       "      <th>964</th>\n",
       "      <td>964</td>\n",
       "      <td>YLR164W</td>\n",
       "      <td>40,42,46,101</td>\n",
       "      <td>\"Phosphorylation\",\"Phosphorylation\",\"Phosphory...</td>\n",
       "      <td>MSSTKFLKPLCRIRAFHTSIARSFTIPFLPKIPQKPGGVSGTANDS...</td>\n",
       "    </tr>\n",
       "    <tr>\n",
       "      <th>965</th>\n",
       "      <td>965</td>\n",
       "      <td>YPL020C</td>\n",
       "      <td>2,21,25,48,72,119,124,127,131,134,157,174,179,...</td>\n",
       "      <td>\"NtAcetylation\",\"Phosphorylation\",\"Phosphoryla...</td>\n",
       "      <td>MSVEVDKHRNTLQYHKKNPYSPLFSPISTYRCYPRVLNNPSESRRS...</td>\n",
       "    </tr>\n",
       "    <tr>\n",
       "      <th>966</th>\n",
       "      <td>966</td>\n",
       "      <td>YBR191W</td>\n",
       "      <td>21,28,29,32,35,43,50,55,60,61,69,70,71,78,100,...</td>\n",
       "      <td>\"Ubiquitination\",\"Phosphorylation\",\"Phosphoryl...</td>\n",
       "      <td>MGKSHGYRSRTRYMFQRDFRKHGAVHLSTYLKVYKVGDIVDIKANG...</td>\n",
       "    </tr>\n",
       "    <tr>\n",
       "      <th>967</th>\n",
       "      <td>967</td>\n",
       "      <td>YJL046W</td>\n",
       "      <td>216</td>\n",
       "      <td>\"Acetylation\"</td>\n",
       "      <td>MSMMLSNWALSPRYVGQRNLIHCTTLFHTLTRWAKDADDKYHDINS...</td>\n",
       "    </tr>\n",
       "    <tr>\n",
       "      <th>968</th>\n",
       "      <td>968</td>\n",
       "      <td>YHR137W</td>\n",
       "      <td>5,15,80,90,92,317</td>\n",
       "      <td>\"Phosphorylation\",\"Succinylation\",\"Phosphoryla...</td>\n",
       "      <td>MTAGSAPPVDYTSLKKNFQPFLSRRVENRSLKSFWDASDISDDVIE...</td>\n",
       "    </tr>\n",
       "  </tbody>\n",
       "</table>\n",
       "<p>969 rows × 5 columns</p>\n",
       "</div>"
      ],
      "text/plain": [
       "     Unnamed: 0        ORF                                           Residues  \\\n",
       "0             0  YHR072W-A                                           28,36,40   \n",
       "1             1    YJL127C                                    160,613,619,636   \n",
       "2             2    YER032W  66,81,84,102,105,167,169,172,225,245,274,375,3...   \n",
       "3             3    YOR261C  7,43,44,45,105,112,144,195,198,205,213,217,263...   \n",
       "4             4    YKR087C                            137,138,203,204,207,257   \n",
       "..          ...        ...                                                ...   \n",
       "964         964    YLR164W                                       40,42,46,101   \n",
       "965         965    YPL020C  2,21,25,48,72,119,124,127,131,134,157,174,179,...   \n",
       "966         966    YBR191W  21,28,29,32,35,43,50,55,60,61,69,70,71,78,100,...   \n",
       "967         967    YJL046W                                                216   \n",
       "968         968    YHR137W                                  5,15,80,90,92,317   \n",
       "\n",
       "                                                  Mods  \\\n",
       "0     \"Ubiquitination\",\"Phosphorylation\",\"Acetylation\"   \n",
       "1    \"Phosphorylation\",\"Phosphorylation\",\"Phosphory...   \n",
       "2    \"Phosphorylation\",\"Phosphorylation\",\"Phosphory...   \n",
       "3    \"Ubiquitination\",\"Phosphorylation\",\"Phosphoryl...   \n",
       "4    \"Oxidation\",\"Acetylation\",\"Metal\",\"ActiveSite\"...   \n",
       "..                                                 ...   \n",
       "964  \"Phosphorylation\",\"Phosphorylation\",\"Phosphory...   \n",
       "965  \"NtAcetylation\",\"Phosphorylation\",\"Phosphoryla...   \n",
       "966  \"Ubiquitination\",\"Phosphorylation\",\"Phosphoryl...   \n",
       "967                                      \"Acetylation\"   \n",
       "968  \"Phosphorylation\",\"Succinylation\",\"Phosphoryla...   \n",
       "\n",
       "                                                  Seqs  \n",
       "0    MHLMYTLGPDGKRIYTLKKVTESGEITKSAHPARFSPDDKYSRQRV...  \n",
       "1    MLNQHTSSVPDDEHLQMAHQNSSSEVRNEAAVPDQLLTPLQPYTIL...  \n",
       "2    MSLPVTPVKSKVCSTLSIQHEMDHDQCRDVLCPRENLLAINRTNNI...  \n",
       "3    MSLQHEKVTIAPLVLLSALDHYERTQTKENKRCVGVILGDANSSTI...  \n",
       "4    MLRNIIRFKGFGKGTSGGFLKPVSFRVQLTRCYRYDNGPSYRRFNN...  \n",
       "..                                                 ...  \n",
       "964  MSSTKFLKPLCRIRAFHTSIARSFTIPFLPKIPQKPGGVSGTANDS...  \n",
       "965  MSVEVDKHRNTLQYHKKNPYSPLFSPISTYRCYPRVLNNPSESRRS...  \n",
       "966  MGKSHGYRSRTRYMFQRDFRKHGAVHLSTYLKVYKVGDIVDIKANG...  \n",
       "967  MSMMLSNWALSPRYVGQRNLIHCTTLFHTLTRWAKDADDKYHDINS...  \n",
       "968  MTAGSAPPVDYTSLKKNFQPFLSRRVENRSLKSFWDASDISDDVIE...  \n",
       "\n",
       "[969 rows x 5 columns]"
      ]
     },
     "execution_count": 38,
     "metadata": {},
     "output_type": "execute_result"
    }
   ],
   "source": [
    "DATABASE = first969 #tweak this once all data is in\n",
    "DATABASE"
   ]
  },
  {
   "cell_type": "code",
   "execution_count": 48,
   "metadata": {},
   "outputs": [
    {
     "data": {
      "text/plain": [
       "{'Methylation': 1,\n",
       " 'Phosphorylation': 2,\n",
       " 'Oxidation': 3,\n",
       " 'Succinylation': 4,\n",
       " 'Metal': 5,\n",
       " 'ActiveSite': 6,\n",
       " 'Ubiquitination': 7,\n",
       " 'Lipidation': 8,\n",
       " 'Sumoylation': 9,\n",
       " 'NtAcetylation': 10,\n",
       " 'Disulfide': 11,\n",
       " 'Nitration': 12,\n",
       " 'Glycosylation': 13,\n",
       " 'Biotinylation': 14,\n",
       " 'Acetylation': 15,\n",
       " 'Ca': 16}"
      ]
     },
     "execution_count": 48,
     "metadata": {},
     "output_type": "execute_result"
    }
   ],
   "source": [
    "\n",
    "mod_list_dirty = list(set(','.join(list(DATABASE['Mods'])).split(',')))\n",
    "\n",
    "disallowed_characters = \"\\\"' \"\n",
    "mod_list_clean = []\n",
    "\n",
    "for i in mod_list_dirty:\n",
    "    for character in disallowed_characters:\n",
    "        i = i.replace(character, \"\")\n",
    "    mod_list_clean.append(i)\n",
    "    \n",
    "mod_list_clean = list(set(mod_list_clean))\n",
    "\n",
    "ptm_dict = {}\n",
    "for ptm in range(len(mod_list_clean)):\n",
    "    ptm_dict[mod_list_clean[ptm]] = ptm+1\n",
    "    \n",
    "ptm_dict"
   ]
  },
  {
   "cell_type": "code",
   "execution_count": 54,
   "metadata": {},
   "outputs": [
    {
     "data": {
      "text/plain": [
       "{'M': 1,\n",
       " 'H': 2,\n",
       " 'L': 3,\n",
       " 'Y': 4,\n",
       " 'T': 5,\n",
       " 'G': 6,\n",
       " 'P': 7,\n",
       " 'D': 8,\n",
       " 'K': 9,\n",
       " 'R': 10,\n",
       " 'I': 11,\n",
       " 'V': 12,\n",
       " 'E': 13,\n",
       " 'S': 14,\n",
       " 'A': 15,\n",
       " 'F': 16,\n",
       " 'Q': 17,\n",
       " 'N': 18,\n",
       " 'W': 19,\n",
       " 'C': 20}"
      ]
     },
     "execution_count": 54,
     "metadata": {},
     "output_type": "execute_result"
    }
   ],
   "source": [
    "#get amino acid set\n",
    "\n",
    "aa_list = []\n",
    "\n",
    "for s in DATABASE['Seqs']:\n",
    "    if (len(aa_list) < 20):\n",
    "        for aa in s:\n",
    "            if aa in aa_list:\n",
    "                pass\n",
    "            else:\n",
    "                aa_list.append(aa)\n",
    "                \n",
    "aa_dict = {}\n",
    "for aa in range(len(aa_list)):\n",
    "    aa_dict[aa_list[aa]] = aa+1\n",
    "aa_dict"
   ]
  },
  {
   "cell_type": "code",
   "execution_count": 57,
   "metadata": {},
   "outputs": [],
   "source": [
    "tokenized_proteins = []\n",
    "for protein in DATABASE['Seqs']:\n",
    "    tokenized_proteins.append([aa_dict[i] for i in protein])"
   ]
  },
  {
   "cell_type": "code",
   "execution_count": 59,
   "metadata": {},
   "outputs": [],
   "source": [
    "DATABASE['token_proteins'] = tokenized_proteins"
   ]
  },
  {
   "cell_type": "code",
   "execution_count": 60,
   "metadata": {},
   "outputs": [
    {
     "data": {
      "text/html": [
       "<div>\n",
       "<style scoped>\n",
       "    .dataframe tbody tr th:only-of-type {\n",
       "        vertical-align: middle;\n",
       "    }\n",
       "\n",
       "    .dataframe tbody tr th {\n",
       "        vertical-align: top;\n",
       "    }\n",
       "\n",
       "    .dataframe thead th {\n",
       "        text-align: right;\n",
       "    }\n",
       "</style>\n",
       "<table border=\"1\" class=\"dataframe\">\n",
       "  <thead>\n",
       "    <tr style=\"text-align: right;\">\n",
       "      <th></th>\n",
       "      <th>Unnamed: 0</th>\n",
       "      <th>ORF</th>\n",
       "      <th>Residues</th>\n",
       "      <th>Mods</th>\n",
       "      <th>Seqs</th>\n",
       "      <th>token_proteins</th>\n",
       "    </tr>\n",
       "  </thead>\n",
       "  <tbody>\n",
       "    <tr>\n",
       "      <th>0</th>\n",
       "      <td>0</td>\n",
       "      <td>YHR072W-A</td>\n",
       "      <td>28,36,40</td>\n",
       "      <td>\"Ubiquitination\",\"Phosphorylation\",\"Acetylation\"</td>\n",
       "      <td>MHLMYTLGPDGKRIYTLKKVTESGEITKSAHPARFSPDDKYSRQRV...</td>\n",
       "      <td>[1, 2, 3, 1, 4, 5, 3, 6, 7, 8, 6, 9, 10, 11, 4...</td>\n",
       "    </tr>\n",
       "    <tr>\n",
       "      <th>1</th>\n",
       "      <td>1</td>\n",
       "      <td>YJL127C</td>\n",
       "      <td>160,613,619,636</td>\n",
       "      <td>\"Phosphorylation\",\"Phosphorylation\",\"Phosphory...</td>\n",
       "      <td>MLNQHTSSVPDDEHLQMAHQNSSSEVRNEAAVPDQLLTPLQPYTIL...</td>\n",
       "      <td>[1, 3, 18, 17, 2, 5, 14, 14, 12, 7, 8, 8, 13, ...</td>\n",
       "    </tr>\n",
       "    <tr>\n",
       "      <th>2</th>\n",
       "      <td>2</td>\n",
       "      <td>YER032W</td>\n",
       "      <td>66,81,84,102,105,167,169,172,225,245,274,375,3...</td>\n",
       "      <td>\"Phosphorylation\",\"Phosphorylation\",\"Phosphory...</td>\n",
       "      <td>MSLPVTPVKSKVCSTLSIQHEMDHDQCRDVLCPRENLLAINRTNNI...</td>\n",
       "      <td>[1, 14, 3, 7, 12, 5, 7, 12, 9, 14, 9, 12, 20, ...</td>\n",
       "    </tr>\n",
       "    <tr>\n",
       "      <th>3</th>\n",
       "      <td>3</td>\n",
       "      <td>YOR261C</td>\n",
       "      <td>7,43,44,45,105,112,144,195,198,205,213,217,263...</td>\n",
       "      <td>\"Ubiquitination\",\"Phosphorylation\",\"Phosphoryl...</td>\n",
       "      <td>MSLQHEKVTIAPLVLLSALDHYERTQTKENKRCVGVILGDANSSTI...</td>\n",
       "      <td>[1, 14, 3, 17, 2, 13, 9, 12, 5, 11, 15, 7, 3, ...</td>\n",
       "    </tr>\n",
       "    <tr>\n",
       "      <th>4</th>\n",
       "      <td>4</td>\n",
       "      <td>YKR087C</td>\n",
       "      <td>137,138,203,204,207,257</td>\n",
       "      <td>\"Oxidation\",\"Acetylation\",\"Metal\",\"ActiveSite\"...</td>\n",
       "      <td>MLRNIIRFKGFGKGTSGGFLKPVSFRVQLTRCYRYDNGPSYRRFNN...</td>\n",
       "      <td>[1, 3, 10, 18, 11, 11, 10, 16, 9, 6, 16, 6, 9,...</td>\n",
       "    </tr>\n",
       "    <tr>\n",
       "      <th>...</th>\n",
       "      <td>...</td>\n",
       "      <td>...</td>\n",
       "      <td>...</td>\n",
       "      <td>...</td>\n",
       "      <td>...</td>\n",
       "      <td>...</td>\n",
       "    </tr>\n",
       "    <tr>\n",
       "      <th>964</th>\n",
       "      <td>964</td>\n",
       "      <td>YLR164W</td>\n",
       "      <td>40,42,46,101</td>\n",
       "      <td>\"Phosphorylation\",\"Phosphorylation\",\"Phosphory...</td>\n",
       "      <td>MSSTKFLKPLCRIRAFHTSIARSFTIPFLPKIPQKPGGVSGTANDS...</td>\n",
       "      <td>[1, 14, 14, 5, 9, 16, 3, 9, 7, 3, 20, 10, 11, ...</td>\n",
       "    </tr>\n",
       "    <tr>\n",
       "      <th>965</th>\n",
       "      <td>965</td>\n",
       "      <td>YPL020C</td>\n",
       "      <td>2,21,25,48,72,119,124,127,131,134,157,174,179,...</td>\n",
       "      <td>\"NtAcetylation\",\"Phosphorylation\",\"Phosphoryla...</td>\n",
       "      <td>MSVEVDKHRNTLQYHKKNPYSPLFSPISTYRCYPRVLNNPSESRRS...</td>\n",
       "      <td>[1, 14, 12, 13, 12, 8, 9, 2, 10, 18, 5, 3, 17,...</td>\n",
       "    </tr>\n",
       "    <tr>\n",
       "      <th>966</th>\n",
       "      <td>966</td>\n",
       "      <td>YBR191W</td>\n",
       "      <td>21,28,29,32,35,43,50,55,60,61,69,70,71,78,100,...</td>\n",
       "      <td>\"Ubiquitination\",\"Phosphorylation\",\"Phosphoryl...</td>\n",
       "      <td>MGKSHGYRSRTRYMFQRDFRKHGAVHLSTYLKVYKVGDIVDIKANG...</td>\n",
       "      <td>[1, 6, 9, 14, 2, 6, 4, 10, 14, 10, 5, 10, 4, 1...</td>\n",
       "    </tr>\n",
       "    <tr>\n",
       "      <th>967</th>\n",
       "      <td>967</td>\n",
       "      <td>YJL046W</td>\n",
       "      <td>216</td>\n",
       "      <td>\"Acetylation\"</td>\n",
       "      <td>MSMMLSNWALSPRYVGQRNLIHCTTLFHTLTRWAKDADDKYHDINS...</td>\n",
       "      <td>[1, 14, 1, 1, 3, 14, 18, 19, 15, 3, 14, 7, 10,...</td>\n",
       "    </tr>\n",
       "    <tr>\n",
       "      <th>968</th>\n",
       "      <td>968</td>\n",
       "      <td>YHR137W</td>\n",
       "      <td>5,15,80,90,92,317</td>\n",
       "      <td>\"Phosphorylation\",\"Succinylation\",\"Phosphoryla...</td>\n",
       "      <td>MTAGSAPPVDYTSLKKNFQPFLSRRVENRSLKSFWDASDISDDVIE...</td>\n",
       "      <td>[1, 5, 15, 6, 14, 15, 7, 7, 12, 8, 4, 5, 14, 3...</td>\n",
       "    </tr>\n",
       "  </tbody>\n",
       "</table>\n",
       "<p>969 rows × 6 columns</p>\n",
       "</div>"
      ],
      "text/plain": [
       "     Unnamed: 0        ORF                                           Residues  \\\n",
       "0             0  YHR072W-A                                           28,36,40   \n",
       "1             1    YJL127C                                    160,613,619,636   \n",
       "2             2    YER032W  66,81,84,102,105,167,169,172,225,245,274,375,3...   \n",
       "3             3    YOR261C  7,43,44,45,105,112,144,195,198,205,213,217,263...   \n",
       "4             4    YKR087C                            137,138,203,204,207,257   \n",
       "..          ...        ...                                                ...   \n",
       "964         964    YLR164W                                       40,42,46,101   \n",
       "965         965    YPL020C  2,21,25,48,72,119,124,127,131,134,157,174,179,...   \n",
       "966         966    YBR191W  21,28,29,32,35,43,50,55,60,61,69,70,71,78,100,...   \n",
       "967         967    YJL046W                                                216   \n",
       "968         968    YHR137W                                  5,15,80,90,92,317   \n",
       "\n",
       "                                                  Mods  \\\n",
       "0     \"Ubiquitination\",\"Phosphorylation\",\"Acetylation\"   \n",
       "1    \"Phosphorylation\",\"Phosphorylation\",\"Phosphory...   \n",
       "2    \"Phosphorylation\",\"Phosphorylation\",\"Phosphory...   \n",
       "3    \"Ubiquitination\",\"Phosphorylation\",\"Phosphoryl...   \n",
       "4    \"Oxidation\",\"Acetylation\",\"Metal\",\"ActiveSite\"...   \n",
       "..                                                 ...   \n",
       "964  \"Phosphorylation\",\"Phosphorylation\",\"Phosphory...   \n",
       "965  \"NtAcetylation\",\"Phosphorylation\",\"Phosphoryla...   \n",
       "966  \"Ubiquitination\",\"Phosphorylation\",\"Phosphoryl...   \n",
       "967                                      \"Acetylation\"   \n",
       "968  \"Phosphorylation\",\"Succinylation\",\"Phosphoryla...   \n",
       "\n",
       "                                                  Seqs  \\\n",
       "0    MHLMYTLGPDGKRIYTLKKVTESGEITKSAHPARFSPDDKYSRQRV...   \n",
       "1    MLNQHTSSVPDDEHLQMAHQNSSSEVRNEAAVPDQLLTPLQPYTIL...   \n",
       "2    MSLPVTPVKSKVCSTLSIQHEMDHDQCRDVLCPRENLLAINRTNNI...   \n",
       "3    MSLQHEKVTIAPLVLLSALDHYERTQTKENKRCVGVILGDANSSTI...   \n",
       "4    MLRNIIRFKGFGKGTSGGFLKPVSFRVQLTRCYRYDNGPSYRRFNN...   \n",
       "..                                                 ...   \n",
       "964  MSSTKFLKPLCRIRAFHTSIARSFTIPFLPKIPQKPGGVSGTANDS...   \n",
       "965  MSVEVDKHRNTLQYHKKNPYSPLFSPISTYRCYPRVLNNPSESRRS...   \n",
       "966  MGKSHGYRSRTRYMFQRDFRKHGAVHLSTYLKVYKVGDIVDIKANG...   \n",
       "967  MSMMLSNWALSPRYVGQRNLIHCTTLFHTLTRWAKDADDKYHDINS...   \n",
       "968  MTAGSAPPVDYTSLKKNFQPFLSRRVENRSLKSFWDASDISDDVIE...   \n",
       "\n",
       "                                        token_proteins  \n",
       "0    [1, 2, 3, 1, 4, 5, 3, 6, 7, 8, 6, 9, 10, 11, 4...  \n",
       "1    [1, 3, 18, 17, 2, 5, 14, 14, 12, 7, 8, 8, 13, ...  \n",
       "2    [1, 14, 3, 7, 12, 5, 7, 12, 9, 14, 9, 12, 20, ...  \n",
       "3    [1, 14, 3, 17, 2, 13, 9, 12, 5, 11, 15, 7, 3, ...  \n",
       "4    [1, 3, 10, 18, 11, 11, 10, 16, 9, 6, 16, 6, 9,...  \n",
       "..                                                 ...  \n",
       "964  [1, 14, 14, 5, 9, 16, 3, 9, 7, 3, 20, 10, 11, ...  \n",
       "965  [1, 14, 12, 13, 12, 8, 9, 2, 10, 18, 5, 3, 17,...  \n",
       "966  [1, 6, 9, 14, 2, 6, 4, 10, 14, 10, 5, 10, 4, 1...  \n",
       "967  [1, 14, 1, 1, 3, 14, 18, 19, 15, 3, 14, 7, 10,...  \n",
       "968  [1, 5, 15, 6, 14, 15, 7, 7, 12, 8, 4, 5, 14, 3...  \n",
       "\n",
       "[969 rows x 6 columns]"
      ]
     },
     "execution_count": 60,
     "metadata": {},
     "output_type": "execute_result"
    }
   ],
   "source": [
    "DATABASE"
   ]
  },
  {
   "cell_type": "code",
   "execution_count": 63,
   "metadata": {},
   "outputs": [
    {
     "data": {
      "text/plain": [
       "'28,36,40'"
      ]
     },
     "execution_count": 63,
     "metadata": {},
     "output_type": "execute_result"
    }
   ],
   "source": [
    "DATABASE.iloc[0,:]['Residues']"
   ]
  },
  {
   "cell_type": "code",
   "execution_count": 64,
   "metadata": {},
   "outputs": [
    {
     "data": {
      "text/plain": [
       "'\"Ubiquitination\",\"Phosphorylation\",\"Acetylation\"'"
      ]
     },
     "execution_count": 64,
     "metadata": {},
     "output_type": "execute_result"
    }
   ],
   "source": [
    "DATABASE.iloc[0,:]['Mods']"
   ]
  },
  {
   "cell_type": "code",
   "execution_count": 72,
   "metadata": {},
   "outputs": [
    {
     "data": {
      "text/plain": [
       "<AxesSubplot:>"
      ]
     },
     "execution_count": 72,
     "metadata": {},
     "output_type": "execute_result"
    },
    {
     "data": {
      "image/png": "[encoded data removed]",
      "text/plain": [
       "<Figure size 432x288 with 1 Axes>"
      ]
     },
     "metadata": {
      "needs_background": "light"
     },
     "output_type": "display_data"
    }
   ],
   "source": [
    "#import matplotlib.pyplot as plt\n",
    "DATABASE['Seqs'].map(len).hist(bins=100)"
   ]
  },
  {
   "cell_type": "code",
   "execution_count": 75,
   "metadata": {},
   "outputs": [
    {
     "data": {
      "text/plain": [
       "<AxesSubplot:>"
      ]
     },
     "execution_count": 75,
     "metadata": {},
     "output_type": "execute_result"
    },
    {
     "data": {
      "image/png": "[encoded data removed]",
      "text/plain": [
       "<Figure size 432x288 with 1 Axes>"
      ]
     },
     "metadata": {
      "needs_background": "light"
     },
     "output_type": "display_data"
    }
   ],
   "source": [
    "def count_commas(word):\n",
    "    return word.count(',')\n",
    "\n",
    "DATABASE['Residues'].map(count_commas).hist(bins=50)"
   ]
  }
 ],
 "metadata": {
  "colab": {
   "collapsed_sections": [],
   "name": "grab_yaam_data.ipynb",
   "provenance": []
  },
  "kernelspec": {
   "display_name": "Python 3",
   "language": "python",
   "name": "python3"
  },
  "language_info": {
   "codemirror_mode": {
    "name": "ipython",
    "version": 3
   },
   "file_extension": ".py",
   "mimetype": "text/x-python",
   "name": "python",
   "nbconvert_exporter": "python",
   "pygments_lexer": "ipython3",
   "version": "3.8.5"
  }
 },
 "nbformat": 4,
 "nbformat_minor": 4
}
